{
  "nbformat": 4,
  "nbformat_minor": 0,
  "metadata": {
    "colab": {
      "name": "Multivariate Exam.ipynb",
      "provenance": [],
      "include_colab_link": true
    },
    "kernelspec": {
      "name": "python3",
      "display_name": "Python 3"
    },
    "language_info": {
      "name": "python"
    }
  },
  "cells": [
    {
      "cell_type": "markdown",
      "metadata": {
        "id": "view-in-github",
        "colab_type": "text"
      },
      "source": [
        "<a href=\"https://colab.research.google.com/github/Octa-p/Multivariate/blob/main/Multivariate_Exam.ipynb\" target=\"_parent\"><img src=\"https://colab.research.google.com/assets/colab-badge.svg\" alt=\"Open In Colab\"/></a>"
      ]
    },
    {
      "cell_type": "markdown",
      "metadata": {
        "id": "JZxiNADfaDtv"
      },
      "source": [
        "ให้นักศึกษาทำข้อสอบใน Colab Notebook นี้โดยกรอกข้อมูลของตัวเองใน cell ที่ 2 แล้วรัน cell ที่ 1 - 5 และเริ่มทำข้อสอบใน cell ที่ 6 เป็นต้นไป\n",
        "\n",
        "โดยโจทย์คือ\n",
        "1. ข้อมูลโจทย์ อยู่ใน ตัวแปร ```Data```\n",
        "2. ทำ clustering แล้วทำ visualize ข้อมูลแบบ 2 มิติ\n",
        "3. ลด Dimension ของข้อมูลเหลือ 2 มิติ แล้วทำ clustering แล้ว visualize ข้อมูลแบบ 2 มิติ\n",
        "4. เปรียบเทียบความแตกต่างของผลข้อ 2. กับ ข้อ 3.\n",
        "5. เขียน comments อธิบายทุกขั้นตอน\n",
        "6. อัด video อธิบาย code ทุกๆขั้นตอนรวมถึงผลแล้วอัพลง youtube ในรูปแบบ unlist \n",
        "7. commit โดยใช้ชื่อ commit เป็น link youtube ที่อธิบาย code ในข้อ 6.\n",
        "\n",
        "กำหนดส่งวันที่ 2 พฤษภาคม 2564 (โดยให้มากรอกวันที่ commit ครั้งสุดท้ายใน sheet: https://docs.google.com/spreadsheets/d/1_qJwLDJVtOW1HxBcf_FHVc6UT4J_SOonuR6o3EEnVzw/edit?usp=sharing ช่อง Final)"
      ]
    },
    {
      "cell_type": "code",
      "metadata": {
        "id": "cWl2x1bPGtQl"
      },
      "source": [
        "from sklearn.datasets import make_blobs\n",
        "import random,math\n",
        "import numpy as np\n",
        "import pandas\n",
        "from matplotlib import pyplot as plt"
      ],
      "execution_count": 21,
      "outputs": []
    },
    {
      "cell_type": "code",
      "metadata": {
        "id": "gZfzuiHsZksh"
      },
      "source": [
        "Name = 'รติมา ชินวงษ์'\n",
        "ID = '6230200420'"
      ],
      "execution_count": 5,
      "outputs": []
    },
    {
      "cell_type": "code",
      "metadata": {
        "id": "8hFQXkF5aAiA"
      },
      "source": [
        "def DataGenerator(name,id):\n",
        "    random.seed(int(id[3:6]))\n",
        "    numfeat = random.randint(20,30)\n",
        "    ct = random.randint(len(name)-6,len(name))\n",
        "    \n",
        "    X, y = make_blobs(n_samples=10000, centers=ct, n_features=numfeat , random_state=int(id[3:6]))\n",
        "\n",
        "    print(f'{id[3:6]}:{numfeat}:{ct}')\n",
        "    X_t = (X[:,1]*2)+int(id[3])\n",
        "    X_t2 = (X[:,-1]*5)+int(id[4])\n",
        "\n",
        "    DT = np.append(X,X_t.reshape([10000,1]),axis=1)\n",
        "    DT = np.append(DT,X_t2.reshape([10000,1]),axis=1)\n",
        "    \n",
        "    return pandas.DataFrame(DT)"
      ],
      "execution_count": 6,
      "outputs": []
    },
    {
      "cell_type": "code",
      "metadata": {
        "colab": {
          "base_uri": "https://localhost:8080/"
        },
        "id": "hbXlxumSBX9i",
        "outputId": "4547469e-9ba0-491e-b602-61e4cb44cde7"
      },
      "source": [
        "Data = DataGenerator(Name,ID)"
      ],
      "execution_count": 7,
      "outputs": [
        {
          "output_type": "stream",
          "text": [
            "020:30:13\n"
          ],
          "name": "stdout"
        }
      ]
    },
    {
      "cell_type": "code",
      "metadata": {
        "colab": {
          "base_uri": "https://localhost:8080/",
          "height": 439
        },
        "id": "pQcCySXvBdN-",
        "outputId": "d17a8753-ffe2-43b9-e356-6826597e5f78"
      },
      "source": [
        "Data"
      ],
      "execution_count": 8,
      "outputs": [
        {
          "output_type": "execute_result",
          "data": {
            "text/html": [
              "<div>\n",
              "<style scoped>\n",
              "    .dataframe tbody tr th:only-of-type {\n",
              "        vertical-align: middle;\n",
              "    }\n",
              "\n",
              "    .dataframe tbody tr th {\n",
              "        vertical-align: top;\n",
              "    }\n",
              "\n",
              "    .dataframe thead th {\n",
              "        text-align: right;\n",
              "    }\n",
              "</style>\n",
              "<table border=\"1\" class=\"dataframe\">\n",
              "  <thead>\n",
              "    <tr style=\"text-align: right;\">\n",
              "      <th></th>\n",
              "      <th>0</th>\n",
              "      <th>1</th>\n",
              "      <th>2</th>\n",
              "      <th>3</th>\n",
              "      <th>4</th>\n",
              "      <th>5</th>\n",
              "      <th>6</th>\n",
              "      <th>7</th>\n",
              "      <th>8</th>\n",
              "      <th>9</th>\n",
              "      <th>10</th>\n",
              "      <th>11</th>\n",
              "      <th>12</th>\n",
              "      <th>13</th>\n",
              "      <th>14</th>\n",
              "      <th>15</th>\n",
              "      <th>16</th>\n",
              "      <th>17</th>\n",
              "      <th>18</th>\n",
              "      <th>19</th>\n",
              "      <th>20</th>\n",
              "      <th>21</th>\n",
              "      <th>22</th>\n",
              "      <th>23</th>\n",
              "      <th>24</th>\n",
              "      <th>25</th>\n",
              "      <th>26</th>\n",
              "      <th>27</th>\n",
              "      <th>28</th>\n",
              "      <th>29</th>\n",
              "      <th>30</th>\n",
              "      <th>31</th>\n",
              "    </tr>\n",
              "  </thead>\n",
              "  <tbody>\n",
              "    <tr>\n",
              "      <th>0</th>\n",
              "      <td>-1.122979</td>\n",
              "      <td>-3.295591</td>\n",
              "      <td>-1.905968</td>\n",
              "      <td>8.807450</td>\n",
              "      <td>3.436086</td>\n",
              "      <td>-7.863223</td>\n",
              "      <td>7.261924</td>\n",
              "      <td>-2.483273</td>\n",
              "      <td>5.677271</td>\n",
              "      <td>-1.384419</td>\n",
              "      <td>-5.713879</td>\n",
              "      <td>-0.701148</td>\n",
              "      <td>-4.897625</td>\n",
              "      <td>-6.022824</td>\n",
              "      <td>-4.822365</td>\n",
              "      <td>2.341001</td>\n",
              "      <td>-1.972514</td>\n",
              "      <td>9.505130</td>\n",
              "      <td>2.176511</td>\n",
              "      <td>-7.749094</td>\n",
              "      <td>7.020367</td>\n",
              "      <td>-4.584958</td>\n",
              "      <td>-8.326107</td>\n",
              "      <td>-4.272719</td>\n",
              "      <td>4.336434</td>\n",
              "      <td>-5.695388</td>\n",
              "      <td>-2.706593</td>\n",
              "      <td>8.540504</td>\n",
              "      <td>10.424226</td>\n",
              "      <td>2.216951</td>\n",
              "      <td>-6.591182</td>\n",
              "      <td>13.084756</td>\n",
              "    </tr>\n",
              "    <tr>\n",
              "      <th>1</th>\n",
              "      <td>-1.178806</td>\n",
              "      <td>-1.705041</td>\n",
              "      <td>-2.304133</td>\n",
              "      <td>8.370834</td>\n",
              "      <td>5.129572</td>\n",
              "      <td>-7.872284</td>\n",
              "      <td>4.108793</td>\n",
              "      <td>-2.045335</td>\n",
              "      <td>6.425141</td>\n",
              "      <td>-2.940128</td>\n",
              "      <td>-7.962174</td>\n",
              "      <td>0.004099</td>\n",
              "      <td>-6.024449</td>\n",
              "      <td>-7.155523</td>\n",
              "      <td>-3.888844</td>\n",
              "      <td>1.612577</td>\n",
              "      <td>-0.771112</td>\n",
              "      <td>8.855043</td>\n",
              "      <td>2.296529</td>\n",
              "      <td>-8.149986</td>\n",
              "      <td>5.307715</td>\n",
              "      <td>-5.962821</td>\n",
              "      <td>-7.641550</td>\n",
              "      <td>-3.307962</td>\n",
              "      <td>3.394114</td>\n",
              "      <td>-4.219148</td>\n",
              "      <td>-2.052904</td>\n",
              "      <td>10.047594</td>\n",
              "      <td>10.208270</td>\n",
              "      <td>4.121820</td>\n",
              "      <td>-3.410083</td>\n",
              "      <td>22.609099</td>\n",
              "    </tr>\n",
              "    <tr>\n",
              "      <th>2</th>\n",
              "      <td>0.904578</td>\n",
              "      <td>4.691859</td>\n",
              "      <td>-3.682533</td>\n",
              "      <td>-2.953914</td>\n",
              "      <td>5.427658</td>\n",
              "      <td>-7.973544</td>\n",
              "      <td>-6.298981</td>\n",
              "      <td>-5.837808</td>\n",
              "      <td>-6.806116</td>\n",
              "      <td>4.240747</td>\n",
              "      <td>-6.726297</td>\n",
              "      <td>-2.661466</td>\n",
              "      <td>2.331365</td>\n",
              "      <td>-2.299572</td>\n",
              "      <td>-3.537591</td>\n",
              "      <td>2.937966</td>\n",
              "      <td>7.014755</td>\n",
              "      <td>-2.094251</td>\n",
              "      <td>-7.833492</td>\n",
              "      <td>7.046922</td>\n",
              "      <td>6.967556</td>\n",
              "      <td>-3.341271</td>\n",
              "      <td>3.557202</td>\n",
              "      <td>-1.224863</td>\n",
              "      <td>4.301185</td>\n",
              "      <td>-6.613338</td>\n",
              "      <td>-8.054432</td>\n",
              "      <td>8.960152</td>\n",
              "      <td>8.176317</td>\n",
              "      <td>-4.350617</td>\n",
              "      <td>9.383718</td>\n",
              "      <td>-19.753085</td>\n",
              "    </tr>\n",
              "    <tr>\n",
              "      <th>3</th>\n",
              "      <td>-8.309558</td>\n",
              "      <td>-0.700731</td>\n",
              "      <td>-6.674782</td>\n",
              "      <td>6.733736</td>\n",
              "      <td>8.064153</td>\n",
              "      <td>-9.515225</td>\n",
              "      <td>9.423268</td>\n",
              "      <td>10.051663</td>\n",
              "      <td>5.773942</td>\n",
              "      <td>2.191188</td>\n",
              "      <td>-6.168410</td>\n",
              "      <td>-3.242995</td>\n",
              "      <td>7.661962</td>\n",
              "      <td>-3.454031</td>\n",
              "      <td>-6.803181</td>\n",
              "      <td>-4.604935</td>\n",
              "      <td>0.994939</td>\n",
              "      <td>-9.752362</td>\n",
              "      <td>6.206699</td>\n",
              "      <td>-7.746425</td>\n",
              "      <td>-2.671065</td>\n",
              "      <td>-8.756579</td>\n",
              "      <td>3.640509</td>\n",
              "      <td>-3.570759</td>\n",
              "      <td>5.755518</td>\n",
              "      <td>3.337119</td>\n",
              "      <td>-2.788030</td>\n",
              "      <td>-9.860391</td>\n",
              "      <td>8.703038</td>\n",
              "      <td>3.645643</td>\n",
              "      <td>-1.401462</td>\n",
              "      <td>20.228213</td>\n",
              "    </tr>\n",
              "    <tr>\n",
              "      <th>4</th>\n",
              "      <td>8.340888</td>\n",
              "      <td>-8.214758</td>\n",
              "      <td>-5.512123</td>\n",
              "      <td>-1.567990</td>\n",
              "      <td>5.905051</td>\n",
              "      <td>8.980198</td>\n",
              "      <td>8.079326</td>\n",
              "      <td>3.190559</td>\n",
              "      <td>-0.398816</td>\n",
              "      <td>-1.669538</td>\n",
              "      <td>5.329574</td>\n",
              "      <td>3.758042</td>\n",
              "      <td>2.629444</td>\n",
              "      <td>-2.314456</td>\n",
              "      <td>6.568466</td>\n",
              "      <td>6.071499</td>\n",
              "      <td>-5.243972</td>\n",
              "      <td>3.210821</td>\n",
              "      <td>6.460610</td>\n",
              "      <td>-11.300239</td>\n",
              "      <td>-9.199506</td>\n",
              "      <td>9.716673</td>\n",
              "      <td>6.044433</td>\n",
              "      <td>4.530647</td>\n",
              "      <td>6.792402</td>\n",
              "      <td>-5.300715</td>\n",
              "      <td>-8.420804</td>\n",
              "      <td>5.595060</td>\n",
              "      <td>0.070567</td>\n",
              "      <td>6.126067</td>\n",
              "      <td>-16.429515</td>\n",
              "      <td>32.630334</td>\n",
              "    </tr>\n",
              "    <tr>\n",
              "      <th>...</th>\n",
              "      <td>...</td>\n",
              "      <td>...</td>\n",
              "      <td>...</td>\n",
              "      <td>...</td>\n",
              "      <td>...</td>\n",
              "      <td>...</td>\n",
              "      <td>...</td>\n",
              "      <td>...</td>\n",
              "      <td>...</td>\n",
              "      <td>...</td>\n",
              "      <td>...</td>\n",
              "      <td>...</td>\n",
              "      <td>...</td>\n",
              "      <td>...</td>\n",
              "      <td>...</td>\n",
              "      <td>...</td>\n",
              "      <td>...</td>\n",
              "      <td>...</td>\n",
              "      <td>...</td>\n",
              "      <td>...</td>\n",
              "      <td>...</td>\n",
              "      <td>...</td>\n",
              "      <td>...</td>\n",
              "      <td>...</td>\n",
              "      <td>...</td>\n",
              "      <td>...</td>\n",
              "      <td>...</td>\n",
              "      <td>...</td>\n",
              "      <td>...</td>\n",
              "      <td>...</td>\n",
              "      <td>...</td>\n",
              "      <td>...</td>\n",
              "    </tr>\n",
              "    <tr>\n",
              "      <th>9995</th>\n",
              "      <td>2.621194</td>\n",
              "      <td>3.082826</td>\n",
              "      <td>-6.051600</td>\n",
              "      <td>-9.254466</td>\n",
              "      <td>5.131143</td>\n",
              "      <td>0.667478</td>\n",
              "      <td>-1.629920</td>\n",
              "      <td>-1.360385</td>\n",
              "      <td>-1.946909</td>\n",
              "      <td>-4.092077</td>\n",
              "      <td>2.009247</td>\n",
              "      <td>1.749112</td>\n",
              "      <td>-3.929099</td>\n",
              "      <td>-1.599213</td>\n",
              "      <td>-3.747115</td>\n",
              "      <td>1.836762</td>\n",
              "      <td>-7.503489</td>\n",
              "      <td>3.989790</td>\n",
              "      <td>5.298064</td>\n",
              "      <td>-6.293570</td>\n",
              "      <td>5.447109</td>\n",
              "      <td>-3.485855</td>\n",
              "      <td>3.683923</td>\n",
              "      <td>5.746130</td>\n",
              "      <td>5.880837</td>\n",
              "      <td>2.346970</td>\n",
              "      <td>2.474427</td>\n",
              "      <td>0.988740</td>\n",
              "      <td>-2.332277</td>\n",
              "      <td>0.787062</td>\n",
              "      <td>6.165651</td>\n",
              "      <td>5.935309</td>\n",
              "    </tr>\n",
              "    <tr>\n",
              "      <th>9996</th>\n",
              "      <td>-0.565152</td>\n",
              "      <td>4.502084</td>\n",
              "      <td>-4.958137</td>\n",
              "      <td>-1.130835</td>\n",
              "      <td>6.393298</td>\n",
              "      <td>-10.045349</td>\n",
              "      <td>-5.483434</td>\n",
              "      <td>-6.521711</td>\n",
              "      <td>-3.976157</td>\n",
              "      <td>2.130145</td>\n",
              "      <td>-7.738335</td>\n",
              "      <td>-2.840233</td>\n",
              "      <td>1.204603</td>\n",
              "      <td>-4.691612</td>\n",
              "      <td>-2.654711</td>\n",
              "      <td>1.921697</td>\n",
              "      <td>7.099371</td>\n",
              "      <td>-0.297220</td>\n",
              "      <td>-10.052557</td>\n",
              "      <td>7.396492</td>\n",
              "      <td>6.868344</td>\n",
              "      <td>-2.660437</td>\n",
              "      <td>2.540235</td>\n",
              "      <td>-0.749447</td>\n",
              "      <td>4.566415</td>\n",
              "      <td>-7.151448</td>\n",
              "      <td>-8.291589</td>\n",
              "      <td>8.715938</td>\n",
              "      <td>5.509624</td>\n",
              "      <td>-7.029211</td>\n",
              "      <td>9.004169</td>\n",
              "      <td>-33.146053</td>\n",
              "    </tr>\n",
              "    <tr>\n",
              "      <th>9997</th>\n",
              "      <td>5.458936</td>\n",
              "      <td>6.669342</td>\n",
              "      <td>-9.677379</td>\n",
              "      <td>-4.951354</td>\n",
              "      <td>5.975153</td>\n",
              "      <td>0.109411</td>\n",
              "      <td>9.595156</td>\n",
              "      <td>0.086257</td>\n",
              "      <td>6.671417</td>\n",
              "      <td>-0.332043</td>\n",
              "      <td>7.129822</td>\n",
              "      <td>-5.413321</td>\n",
              "      <td>-0.944951</td>\n",
              "      <td>-0.779493</td>\n",
              "      <td>-1.810268</td>\n",
              "      <td>6.062982</td>\n",
              "      <td>-3.143105</td>\n",
              "      <td>-2.785437</td>\n",
              "      <td>-1.798621</td>\n",
              "      <td>-2.375633</td>\n",
              "      <td>2.291665</td>\n",
              "      <td>-6.591749</td>\n",
              "      <td>4.390090</td>\n",
              "      <td>-3.670793</td>\n",
              "      <td>11.363186</td>\n",
              "      <td>-6.152867</td>\n",
              "      <td>4.829156</td>\n",
              "      <td>-1.963335</td>\n",
              "      <td>-7.680129</td>\n",
              "      <td>4.356970</td>\n",
              "      <td>13.338685</td>\n",
              "      <td>23.784849</td>\n",
              "    </tr>\n",
              "    <tr>\n",
              "      <th>9998</th>\n",
              "      <td>5.167506</td>\n",
              "      <td>9.960286</td>\n",
              "      <td>5.908806</td>\n",
              "      <td>-5.992349</td>\n",
              "      <td>-6.306272</td>\n",
              "      <td>-2.778985</td>\n",
              "      <td>11.405055</td>\n",
              "      <td>1.561802</td>\n",
              "      <td>7.698767</td>\n",
              "      <td>-9.825561</td>\n",
              "      <td>5.709468</td>\n",
              "      <td>-9.183920</td>\n",
              "      <td>-9.588192</td>\n",
              "      <td>-11.000842</td>\n",
              "      <td>-5.495952</td>\n",
              "      <td>-3.846113</td>\n",
              "      <td>9.210216</td>\n",
              "      <td>7.947077</td>\n",
              "      <td>0.979926</td>\n",
              "      <td>6.075725</td>\n",
              "      <td>-9.279143</td>\n",
              "      <td>4.291894</td>\n",
              "      <td>-9.643116</td>\n",
              "      <td>-6.771529</td>\n",
              "      <td>8.741895</td>\n",
              "      <td>-2.417855</td>\n",
              "      <td>6.372045</td>\n",
              "      <td>1.503416</td>\n",
              "      <td>3.849181</td>\n",
              "      <td>4.402622</td>\n",
              "      <td>19.920572</td>\n",
              "      <td>24.013108</td>\n",
              "    </tr>\n",
              "    <tr>\n",
              "      <th>9999</th>\n",
              "      <td>-3.119938</td>\n",
              "      <td>-4.029596</td>\n",
              "      <td>0.531152</td>\n",
              "      <td>7.573138</td>\n",
              "      <td>-8.084303</td>\n",
              "      <td>-2.583298</td>\n",
              "      <td>-0.893339</td>\n",
              "      <td>-4.906089</td>\n",
              "      <td>-7.680841</td>\n",
              "      <td>-7.023013</td>\n",
              "      <td>9.462003</td>\n",
              "      <td>-5.572993</td>\n",
              "      <td>-11.237967</td>\n",
              "      <td>-3.001927</td>\n",
              "      <td>3.517245</td>\n",
              "      <td>-3.539982</td>\n",
              "      <td>8.105930</td>\n",
              "      <td>-5.813602</td>\n",
              "      <td>8.576036</td>\n",
              "      <td>0.332330</td>\n",
              "      <td>7.541918</td>\n",
              "      <td>3.364779</td>\n",
              "      <td>-8.264066</td>\n",
              "      <td>-7.971045</td>\n",
              "      <td>7.497196</td>\n",
              "      <td>8.930793</td>\n",
              "      <td>4.150151</td>\n",
              "      <td>-1.189277</td>\n",
              "      <td>-1.800349</td>\n",
              "      <td>5.760702</td>\n",
              "      <td>-8.059192</td>\n",
              "      <td>30.803512</td>\n",
              "    </tr>\n",
              "  </tbody>\n",
              "</table>\n",
              "<p>10000 rows × 32 columns</p>\n",
              "</div>"
            ],
            "text/plain": [
              "            0         1         2   ...        29         30         31\n",
              "0    -1.122979 -3.295591 -1.905968  ...  2.216951  -6.591182  13.084756\n",
              "1    -1.178806 -1.705041 -2.304133  ...  4.121820  -3.410083  22.609099\n",
              "2     0.904578  4.691859 -3.682533  ... -4.350617   9.383718 -19.753085\n",
              "3    -8.309558 -0.700731 -6.674782  ...  3.645643  -1.401462  20.228213\n",
              "4     8.340888 -8.214758 -5.512123  ...  6.126067 -16.429515  32.630334\n",
              "...        ...       ...       ...  ...       ...        ...        ...\n",
              "9995  2.621194  3.082826 -6.051600  ...  0.787062   6.165651   5.935309\n",
              "9996 -0.565152  4.502084 -4.958137  ... -7.029211   9.004169 -33.146053\n",
              "9997  5.458936  6.669342 -9.677379  ...  4.356970  13.338685  23.784849\n",
              "9998  5.167506  9.960286  5.908806  ...  4.402622  19.920572  24.013108\n",
              "9999 -3.119938 -4.029596  0.531152  ...  5.760702  -8.059192  30.803512\n",
              "\n",
              "[10000 rows x 32 columns]"
            ]
          },
          "metadata": {
            "tags": []
          },
          "execution_count": 8
        }
      ]
    },
    {
      "cell_type": "markdown",
      "metadata": {
        "id": "ACOYKqs90NCX"
      },
      "source": [
        "## **2. ทำ clustering แล้วทำ visualize ข้อมูลแบบ 2 มิติ**"
      ]
    },
    {
      "cell_type": "markdown",
      "metadata": {
        "id": "-Sm6Bs4P0QoW"
      },
      "source": [
        "- ตรวจสอบขนาดของข้อมูลว่ามี data กี่ตัว และมีกี่ dimensions"
      ]
    },
    {
      "cell_type": "code",
      "metadata": {
        "id": "jUARadkFEuyJ",
        "outputId": "2ddf5080-cc07-4888-a74e-10c7a3e5f29f",
        "colab": {
          "base_uri": "https://localhost:8080/"
        }
      },
      "source": [
        "Data.shape  #1000 ตัว 32 Dimensions"
      ],
      "execution_count": 10,
      "outputs": [
        {
          "output_type": "execute_result",
          "data": {
            "text/plain": [
              "(10000, 32)"
            ]
          },
          "metadata": {
            "tags": []
          },
          "execution_count": 10
        }
      ]
    },
    {
      "cell_type": "markdown",
      "metadata": {
        "id": "vVK1Zk6g1b0k"
      },
      "source": [
        "จากการตรวจสอบข้อมูล ซึ่งข้อมูลที่ให้มามีจำนวน Dimensions มากเกินไป เราจึงควรตรวจสอบดูว่า column ใด ให้ข้อมูลซ้ำกับ column อื่น แล้วลบมันออก\n",
        "\n",
        "ซึ่ง ณ ตอนนี้ข้อมูลเป็นตัวเลขทุก dimension อยู่แล้ว จึงไม่ต้องลบ column ที่ไม่เป็นตัวเลขออก"
      ]
    },
    {
      "cell_type": "markdown",
      "metadata": {
        "id": "RtzKGsKH2D3L"
      },
      "source": [
        "- ตรวจสอบว่า ระหว่าง columns มี correlation กันมากน้อยแค่ไหน ด้วย numpy"
      ]
    },
    {
      "cell_type": "code",
      "metadata": {
        "id": "XlBoNemr1w2A"
      },
      "source": [
        "import numpy as np"
      ],
      "execution_count": 11,
      "outputs": []
    },
    {
      "cell_type": "code",
      "metadata": {
        "id": "KRal-aQ12MLJ"
      },
      "source": [
        "corr = np.corrcoef(Data.to_numpy().T)"
      ],
      "execution_count": 13,
      "outputs": []
    },
    {
      "cell_type": "code",
      "metadata": {
        "id": "hDTfJLw72lRS",
        "outputId": "5ca157c4-5e96-4b5b-907f-92527ce2ca36",
        "colab": {
          "base_uri": "https://localhost:8080/"
        }
      },
      "source": [
        "corr.shape"
      ],
      "execution_count": 14,
      "outputs": [
        {
          "output_type": "execute_result",
          "data": {
            "text/plain": [
              "(32, 32)"
            ]
          },
          "metadata": {
            "tags": []
          },
          "execution_count": 14
        }
      ]
    },
    {
      "cell_type": "code",
      "metadata": {
        "id": "uHuRxfvv2nU0",
        "outputId": "04342bd5-10f7-4310-d43a-d48eb302e666",
        "colab": {
          "base_uri": "https://localhost:8080/"
        }
      },
      "source": [
        "corr"
      ],
      "execution_count": 15,
      "outputs": [
        {
          "output_type": "execute_result",
          "data": {
            "text/plain": [
              "array([[ 1.        ,  0.11158179,  0.0475386 , ...,  0.13355265,\n",
              "         0.11158179,  0.13355265],\n",
              "       [ 0.11158179,  1.        ,  0.28012196, ...,  0.00354079,\n",
              "         1.        ,  0.00354079],\n",
              "       [ 0.0475386 ,  0.28012196,  1.        , ..., -0.05306425,\n",
              "         0.28012196, -0.05306425],\n",
              "       ...,\n",
              "       [ 0.13355265,  0.00354079, -0.05306425, ...,  1.        ,\n",
              "         0.00354079,  1.        ],\n",
              "       [ 0.11158179,  1.        ,  0.28012196, ...,  0.00354079,\n",
              "         1.        ,  0.00354079],\n",
              "       [ 0.13355265,  0.00354079, -0.05306425, ...,  1.        ,\n",
              "         0.00354079,  1.        ]])"
            ]
          },
          "metadata": {
            "tags": []
          },
          "execution_count": 15
        }
      ]
    },
    {
      "cell_type": "code",
      "metadata": {
        "id": "xBZFQcAb2qTR",
        "outputId": "28838f05-45ae-4c4a-f2b2-123f851e4c29",
        "colab": {
          "base_uri": "https://localhost:8080/"
        }
      },
      "source": [
        "for i in range(corr.shape[0]):\n",
        "    for j in range(corr.shape[1]):\n",
        "        if (i !=j) and (corr[i,j] == 1.):\n",
        "            print(f'row = {i} column = {j} corrcoef = {corr[i,j]}')"
      ],
      "execution_count": 16,
      "outputs": [
        {
          "output_type": "stream",
          "text": [
            "row = 1 column = 30 corrcoef = 1.0\n",
            "row = 29 column = 31 corrcoef = 1.0\n",
            "row = 30 column = 1 corrcoef = 1.0\n",
            "row = 31 column = 29 corrcoef = 1.0\n"
          ],
          "name": "stdout"
        }
      ]
    },
    {
      "cell_type": "markdown",
      "metadata": {
        "id": "ZLljkZlhVfoW"
      },
      "source": [
        "มีข้อมูลที่ซ้ำกัน จึงต้องเลือกข้อมูล"
      ]
    },
    {
      "cell_type": "code",
      "metadata": {
        "id": "4z4kxOGD-nzV",
        "outputId": "756ec67d-a056-4ddc-b77c-834d482cc4e0",
        "colab": {
          "base_uri": "https://localhost:8080/",
          "height": 1000
        }
      },
      "source": [
        "Data.iloc[1:32,:32]"
      ],
      "execution_count": 24,
      "outputs": [
        {
          "output_type": "execute_result",
          "data": {
            "text/html": [
              "<div>\n",
              "<style scoped>\n",
              "    .dataframe tbody tr th:only-of-type {\n",
              "        vertical-align: middle;\n",
              "    }\n",
              "\n",
              "    .dataframe tbody tr th {\n",
              "        vertical-align: top;\n",
              "    }\n",
              "\n",
              "    .dataframe thead th {\n",
              "        text-align: right;\n",
              "    }\n",
              "</style>\n",
              "<table border=\"1\" class=\"dataframe\">\n",
              "  <thead>\n",
              "    <tr style=\"text-align: right;\">\n",
              "      <th></th>\n",
              "      <th>0</th>\n",
              "      <th>1</th>\n",
              "      <th>2</th>\n",
              "      <th>3</th>\n",
              "      <th>4</th>\n",
              "      <th>5</th>\n",
              "      <th>6</th>\n",
              "      <th>7</th>\n",
              "      <th>8</th>\n",
              "      <th>9</th>\n",
              "      <th>10</th>\n",
              "      <th>11</th>\n",
              "      <th>12</th>\n",
              "      <th>13</th>\n",
              "      <th>14</th>\n",
              "      <th>15</th>\n",
              "      <th>16</th>\n",
              "      <th>17</th>\n",
              "      <th>18</th>\n",
              "      <th>19</th>\n",
              "      <th>20</th>\n",
              "      <th>21</th>\n",
              "      <th>22</th>\n",
              "      <th>23</th>\n",
              "      <th>24</th>\n",
              "      <th>25</th>\n",
              "      <th>26</th>\n",
              "      <th>27</th>\n",
              "      <th>28</th>\n",
              "      <th>29</th>\n",
              "      <th>30</th>\n",
              "      <th>31</th>\n",
              "    </tr>\n",
              "  </thead>\n",
              "  <tbody>\n",
              "    <tr>\n",
              "      <th>1</th>\n",
              "      <td>-1.178806</td>\n",
              "      <td>-1.705041</td>\n",
              "      <td>-2.304133</td>\n",
              "      <td>8.370834</td>\n",
              "      <td>5.129572</td>\n",
              "      <td>-7.872284</td>\n",
              "      <td>4.108793</td>\n",
              "      <td>-2.045335</td>\n",
              "      <td>6.425141</td>\n",
              "      <td>-2.940128</td>\n",
              "      <td>-7.962174</td>\n",
              "      <td>0.004099</td>\n",
              "      <td>-6.024449</td>\n",
              "      <td>-7.155523</td>\n",
              "      <td>-3.888844</td>\n",
              "      <td>1.612577</td>\n",
              "      <td>-0.771112</td>\n",
              "      <td>8.855043</td>\n",
              "      <td>2.296529</td>\n",
              "      <td>-8.149986</td>\n",
              "      <td>5.307715</td>\n",
              "      <td>-5.962821</td>\n",
              "      <td>-7.641550</td>\n",
              "      <td>-3.307962</td>\n",
              "      <td>3.394114</td>\n",
              "      <td>-4.219148</td>\n",
              "      <td>-2.052904</td>\n",
              "      <td>10.047594</td>\n",
              "      <td>10.208270</td>\n",
              "      <td>4.121820</td>\n",
              "      <td>-3.410083</td>\n",
              "      <td>22.609099</td>\n",
              "    </tr>\n",
              "    <tr>\n",
              "      <th>2</th>\n",
              "      <td>0.904578</td>\n",
              "      <td>4.691859</td>\n",
              "      <td>-3.682533</td>\n",
              "      <td>-2.953914</td>\n",
              "      <td>5.427658</td>\n",
              "      <td>-7.973544</td>\n",
              "      <td>-6.298981</td>\n",
              "      <td>-5.837808</td>\n",
              "      <td>-6.806116</td>\n",
              "      <td>4.240747</td>\n",
              "      <td>-6.726297</td>\n",
              "      <td>-2.661466</td>\n",
              "      <td>2.331365</td>\n",
              "      <td>-2.299572</td>\n",
              "      <td>-3.537591</td>\n",
              "      <td>2.937966</td>\n",
              "      <td>7.014755</td>\n",
              "      <td>-2.094251</td>\n",
              "      <td>-7.833492</td>\n",
              "      <td>7.046922</td>\n",
              "      <td>6.967556</td>\n",
              "      <td>-3.341271</td>\n",
              "      <td>3.557202</td>\n",
              "      <td>-1.224863</td>\n",
              "      <td>4.301185</td>\n",
              "      <td>-6.613338</td>\n",
              "      <td>-8.054432</td>\n",
              "      <td>8.960152</td>\n",
              "      <td>8.176317</td>\n",
              "      <td>-4.350617</td>\n",
              "      <td>9.383718</td>\n",
              "      <td>-19.753085</td>\n",
              "    </tr>\n",
              "    <tr>\n",
              "      <th>3</th>\n",
              "      <td>-8.309558</td>\n",
              "      <td>-0.700731</td>\n",
              "      <td>-6.674782</td>\n",
              "      <td>6.733736</td>\n",
              "      <td>8.064153</td>\n",
              "      <td>-9.515225</td>\n",
              "      <td>9.423268</td>\n",
              "      <td>10.051663</td>\n",
              "      <td>5.773942</td>\n",
              "      <td>2.191188</td>\n",
              "      <td>-6.168410</td>\n",
              "      <td>-3.242995</td>\n",
              "      <td>7.661962</td>\n",
              "      <td>-3.454031</td>\n",
              "      <td>-6.803181</td>\n",
              "      <td>-4.604935</td>\n",
              "      <td>0.994939</td>\n",
              "      <td>-9.752362</td>\n",
              "      <td>6.206699</td>\n",
              "      <td>-7.746425</td>\n",
              "      <td>-2.671065</td>\n",
              "      <td>-8.756579</td>\n",
              "      <td>3.640509</td>\n",
              "      <td>-3.570759</td>\n",
              "      <td>5.755518</td>\n",
              "      <td>3.337119</td>\n",
              "      <td>-2.788030</td>\n",
              "      <td>-9.860391</td>\n",
              "      <td>8.703038</td>\n",
              "      <td>3.645643</td>\n",
              "      <td>-1.401462</td>\n",
              "      <td>20.228213</td>\n",
              "    </tr>\n",
              "    <tr>\n",
              "      <th>4</th>\n",
              "      <td>8.340888</td>\n",
              "      <td>-8.214758</td>\n",
              "      <td>-5.512123</td>\n",
              "      <td>-1.567990</td>\n",
              "      <td>5.905051</td>\n",
              "      <td>8.980198</td>\n",
              "      <td>8.079326</td>\n",
              "      <td>3.190559</td>\n",
              "      <td>-0.398816</td>\n",
              "      <td>-1.669538</td>\n",
              "      <td>5.329574</td>\n",
              "      <td>3.758042</td>\n",
              "      <td>2.629444</td>\n",
              "      <td>-2.314456</td>\n",
              "      <td>6.568466</td>\n",
              "      <td>6.071499</td>\n",
              "      <td>-5.243972</td>\n",
              "      <td>3.210821</td>\n",
              "      <td>6.460610</td>\n",
              "      <td>-11.300239</td>\n",
              "      <td>-9.199506</td>\n",
              "      <td>9.716673</td>\n",
              "      <td>6.044433</td>\n",
              "      <td>4.530647</td>\n",
              "      <td>6.792402</td>\n",
              "      <td>-5.300715</td>\n",
              "      <td>-8.420804</td>\n",
              "      <td>5.595060</td>\n",
              "      <td>0.070567</td>\n",
              "      <td>6.126067</td>\n",
              "      <td>-16.429515</td>\n",
              "      <td>32.630334</td>\n",
              "    </tr>\n",
              "    <tr>\n",
              "      <th>5</th>\n",
              "      <td>-0.008196</td>\n",
              "      <td>-3.905819</td>\n",
              "      <td>-2.637004</td>\n",
              "      <td>11.584560</td>\n",
              "      <td>3.609969</td>\n",
              "      <td>-4.922349</td>\n",
              "      <td>4.130803</td>\n",
              "      <td>-0.354242</td>\n",
              "      <td>5.428811</td>\n",
              "      <td>-1.945650</td>\n",
              "      <td>-4.310180</td>\n",
              "      <td>-0.241423</td>\n",
              "      <td>-6.209236</td>\n",
              "      <td>-6.010673</td>\n",
              "      <td>-4.444782</td>\n",
              "      <td>0.892926</td>\n",
              "      <td>-0.181288</td>\n",
              "      <td>8.701273</td>\n",
              "      <td>4.289904</td>\n",
              "      <td>-6.810533</td>\n",
              "      <td>6.110376</td>\n",
              "      <td>-5.082506</td>\n",
              "      <td>-8.846683</td>\n",
              "      <td>-2.556855</td>\n",
              "      <td>3.647087</td>\n",
              "      <td>-5.247500</td>\n",
              "      <td>-4.014248</td>\n",
              "      <td>8.827011</td>\n",
              "      <td>10.689298</td>\n",
              "      <td>3.435147</td>\n",
              "      <td>-7.811637</td>\n",
              "      <td>19.175733</td>\n",
              "    </tr>\n",
              "    <tr>\n",
              "      <th>6</th>\n",
              "      <td>-1.451118</td>\n",
              "      <td>-3.321407</td>\n",
              "      <td>-2.468177</td>\n",
              "      <td>9.508984</td>\n",
              "      <td>5.016766</td>\n",
              "      <td>-6.770164</td>\n",
              "      <td>4.504332</td>\n",
              "      <td>-2.038038</td>\n",
              "      <td>6.095116</td>\n",
              "      <td>-0.102597</td>\n",
              "      <td>-3.310334</td>\n",
              "      <td>0.996609</td>\n",
              "      <td>-5.974946</td>\n",
              "      <td>-6.391871</td>\n",
              "      <td>-1.672765</td>\n",
              "      <td>0.671353</td>\n",
              "      <td>-1.996846</td>\n",
              "      <td>10.266452</td>\n",
              "      <td>1.928209</td>\n",
              "      <td>-6.279352</td>\n",
              "      <td>5.981063</td>\n",
              "      <td>-4.801057</td>\n",
              "      <td>-10.811158</td>\n",
              "      <td>-2.119801</td>\n",
              "      <td>1.681898</td>\n",
              "      <td>-4.812102</td>\n",
              "      <td>-2.681608</td>\n",
              "      <td>10.315724</td>\n",
              "      <td>10.353871</td>\n",
              "      <td>4.297260</td>\n",
              "      <td>-6.642815</td>\n",
              "      <td>23.486299</td>\n",
              "    </tr>\n",
              "    <tr>\n",
              "      <th>7</th>\n",
              "      <td>0.671690</td>\n",
              "      <td>-3.830463</td>\n",
              "      <td>-0.928794</td>\n",
              "      <td>2.866057</td>\n",
              "      <td>2.734904</td>\n",
              "      <td>8.027056</td>\n",
              "      <td>3.700261</td>\n",
              "      <td>0.083224</td>\n",
              "      <td>-6.226578</td>\n",
              "      <td>1.571061</td>\n",
              "      <td>-2.371665</td>\n",
              "      <td>-4.958551</td>\n",
              "      <td>2.637631</td>\n",
              "      <td>5.244587</td>\n",
              "      <td>2.638098</td>\n",
              "      <td>3.244530</td>\n",
              "      <td>3.351471</td>\n",
              "      <td>10.712978</td>\n",
              "      <td>6.363050</td>\n",
              "      <td>5.405759</td>\n",
              "      <td>-2.681341</td>\n",
              "      <td>-5.938889</td>\n",
              "      <td>9.305665</td>\n",
              "      <td>-0.477574</td>\n",
              "      <td>-1.606843</td>\n",
              "      <td>2.578406</td>\n",
              "      <td>4.564302</td>\n",
              "      <td>5.876039</td>\n",
              "      <td>-1.284383</td>\n",
              "      <td>7.904193</td>\n",
              "      <td>-7.660926</td>\n",
              "      <td>41.520964</td>\n",
              "    </tr>\n",
              "    <tr>\n",
              "      <th>8</th>\n",
              "      <td>5.277115</td>\n",
              "      <td>8.073927</td>\n",
              "      <td>5.872592</td>\n",
              "      <td>-6.940423</td>\n",
              "      <td>-4.473827</td>\n",
              "      <td>-4.723098</td>\n",
              "      <td>7.874479</td>\n",
              "      <td>1.942789</td>\n",
              "      <td>7.342161</td>\n",
              "      <td>-8.149539</td>\n",
              "      <td>5.774390</td>\n",
              "      <td>-9.927808</td>\n",
              "      <td>-10.244034</td>\n",
              "      <td>-11.283071</td>\n",
              "      <td>-4.226304</td>\n",
              "      <td>-2.097110</td>\n",
              "      <td>9.967098</td>\n",
              "      <td>9.084981</td>\n",
              "      <td>-0.842068</td>\n",
              "      <td>4.887911</td>\n",
              "      <td>-10.149832</td>\n",
              "      <td>5.400242</td>\n",
              "      <td>-8.597745</td>\n",
              "      <td>-6.325101</td>\n",
              "      <td>8.145970</td>\n",
              "      <td>-3.728967</td>\n",
              "      <td>7.788023</td>\n",
              "      <td>1.827706</td>\n",
              "      <td>4.067961</td>\n",
              "      <td>2.673430</td>\n",
              "      <td>16.147854</td>\n",
              "      <td>15.367151</td>\n",
              "    </tr>\n",
              "    <tr>\n",
              "      <th>9</th>\n",
              "      <td>1.025774</td>\n",
              "      <td>-2.732722</td>\n",
              "      <td>-5.124041</td>\n",
              "      <td>10.234182</td>\n",
              "      <td>0.261584</td>\n",
              "      <td>3.921261</td>\n",
              "      <td>-5.994564</td>\n",
              "      <td>4.755783</td>\n",
              "      <td>4.560511</td>\n",
              "      <td>5.574445</td>\n",
              "      <td>7.317284</td>\n",
              "      <td>5.869593</td>\n",
              "      <td>-2.121829</td>\n",
              "      <td>6.747645</td>\n",
              "      <td>-9.036736</td>\n",
              "      <td>7.351578</td>\n",
              "      <td>5.730886</td>\n",
              "      <td>1.557586</td>\n",
              "      <td>2.191701</td>\n",
              "      <td>9.230923</td>\n",
              "      <td>-0.864130</td>\n",
              "      <td>0.881085</td>\n",
              "      <td>-0.224412</td>\n",
              "      <td>4.042582</td>\n",
              "      <td>-10.335821</td>\n",
              "      <td>-8.488596</td>\n",
              "      <td>-7.493380</td>\n",
              "      <td>7.581814</td>\n",
              "      <td>-2.737221</td>\n",
              "      <td>1.767736</td>\n",
              "      <td>-5.465443</td>\n",
              "      <td>10.838681</td>\n",
              "    </tr>\n",
              "    <tr>\n",
              "      <th>10</th>\n",
              "      <td>2.499005</td>\n",
              "      <td>7.459226</td>\n",
              "      <td>8.574196</td>\n",
              "      <td>5.299181</td>\n",
              "      <td>-8.088780</td>\n",
              "      <td>3.006087</td>\n",
              "      <td>-2.051506</td>\n",
              "      <td>-0.577025</td>\n",
              "      <td>3.101352</td>\n",
              "      <td>-5.904296</td>\n",
              "      <td>-5.777974</td>\n",
              "      <td>4.317075</td>\n",
              "      <td>6.775549</td>\n",
              "      <td>8.298687</td>\n",
              "      <td>4.269511</td>\n",
              "      <td>-10.728141</td>\n",
              "      <td>-8.217539</td>\n",
              "      <td>2.849536</td>\n",
              "      <td>-5.012835</td>\n",
              "      <td>-4.141735</td>\n",
              "      <td>8.697145</td>\n",
              "      <td>8.469036</td>\n",
              "      <td>2.105065</td>\n",
              "      <td>-4.659973</td>\n",
              "      <td>5.662846</td>\n",
              "      <td>-2.170012</td>\n",
              "      <td>2.243283</td>\n",
              "      <td>7.616415</td>\n",
              "      <td>-1.924925</td>\n",
              "      <td>0.299982</td>\n",
              "      <td>14.918453</td>\n",
              "      <td>3.499909</td>\n",
              "    </tr>\n",
              "    <tr>\n",
              "      <th>11</th>\n",
              "      <td>-1.142359</td>\n",
              "      <td>-7.481156</td>\n",
              "      <td>-0.340936</td>\n",
              "      <td>8.103457</td>\n",
              "      <td>-7.861413</td>\n",
              "      <td>-3.890914</td>\n",
              "      <td>-0.683919</td>\n",
              "      <td>-5.491910</td>\n",
              "      <td>-8.674746</td>\n",
              "      <td>-6.145077</td>\n",
              "      <td>8.811007</td>\n",
              "      <td>-4.313490</td>\n",
              "      <td>-7.358813</td>\n",
              "      <td>-1.575096</td>\n",
              "      <td>2.856097</td>\n",
              "      <td>-3.524693</td>\n",
              "      <td>8.298167</td>\n",
              "      <td>-8.033344</td>\n",
              "      <td>8.816903</td>\n",
              "      <td>-0.176775</td>\n",
              "      <td>5.693648</td>\n",
              "      <td>2.456979</td>\n",
              "      <td>-6.552634</td>\n",
              "      <td>-9.455586</td>\n",
              "      <td>9.429147</td>\n",
              "      <td>8.214740</td>\n",
              "      <td>4.178883</td>\n",
              "      <td>-1.699141</td>\n",
              "      <td>-1.935957</td>\n",
              "      <td>7.388655</td>\n",
              "      <td>-14.962312</td>\n",
              "      <td>38.943277</td>\n",
              "    </tr>\n",
              "    <tr>\n",
              "      <th>12</th>\n",
              "      <td>-0.468797</td>\n",
              "      <td>-3.270112</td>\n",
              "      <td>-1.763467</td>\n",
              "      <td>4.544089</td>\n",
              "      <td>5.621067</td>\n",
              "      <td>9.565760</td>\n",
              "      <td>3.228217</td>\n",
              "      <td>-0.891764</td>\n",
              "      <td>-9.134822</td>\n",
              "      <td>-0.995650</td>\n",
              "      <td>-1.607905</td>\n",
              "      <td>-3.425362</td>\n",
              "      <td>4.137878</td>\n",
              "      <td>9.389266</td>\n",
              "      <td>2.512968</td>\n",
              "      <td>3.091039</td>\n",
              "      <td>2.532290</td>\n",
              "      <td>11.892995</td>\n",
              "      <td>7.622234</td>\n",
              "      <td>5.455876</td>\n",
              "      <td>-3.047787</td>\n",
              "      <td>-2.550026</td>\n",
              "      <td>9.513308</td>\n",
              "      <td>1.341996</td>\n",
              "      <td>-1.557202</td>\n",
              "      <td>2.320623</td>\n",
              "      <td>3.561553</td>\n",
              "      <td>6.525110</td>\n",
              "      <td>-2.638670</td>\n",
              "      <td>7.880260</td>\n",
              "      <td>-6.540224</td>\n",
              "      <td>41.401301</td>\n",
              "    </tr>\n",
              "    <tr>\n",
              "      <th>13</th>\n",
              "      <td>0.297052</td>\n",
              "      <td>-0.712293</td>\n",
              "      <td>-0.263445</td>\n",
              "      <td>9.602995</td>\n",
              "      <td>4.504481</td>\n",
              "      <td>-5.680249</td>\n",
              "      <td>3.306536</td>\n",
              "      <td>-2.082266</td>\n",
              "      <td>5.629539</td>\n",
              "      <td>-1.267180</td>\n",
              "      <td>-7.357991</td>\n",
              "      <td>0.123545</td>\n",
              "      <td>-5.141304</td>\n",
              "      <td>-5.788993</td>\n",
              "      <td>-3.979165</td>\n",
              "      <td>2.108040</td>\n",
              "      <td>0.555247</td>\n",
              "      <td>7.834555</td>\n",
              "      <td>2.850699</td>\n",
              "      <td>-7.661993</td>\n",
              "      <td>5.499291</td>\n",
              "      <td>-7.265978</td>\n",
              "      <td>-9.057519</td>\n",
              "      <td>-2.135379</td>\n",
              "      <td>1.648950</td>\n",
              "      <td>-3.292122</td>\n",
              "      <td>-4.255151</td>\n",
              "      <td>8.793532</td>\n",
              "      <td>8.981793</td>\n",
              "      <td>2.399073</td>\n",
              "      <td>-1.424585</td>\n",
              "      <td>13.995367</td>\n",
              "    </tr>\n",
              "    <tr>\n",
              "      <th>14</th>\n",
              "      <td>-7.464180</td>\n",
              "      <td>-3.014878</td>\n",
              "      <td>-7.282297</td>\n",
              "      <td>7.832311</td>\n",
              "      <td>9.279782</td>\n",
              "      <td>-6.985911</td>\n",
              "      <td>9.481176</td>\n",
              "      <td>9.237638</td>\n",
              "      <td>6.776785</td>\n",
              "      <td>3.523859</td>\n",
              "      <td>-6.746752</td>\n",
              "      <td>0.133037</td>\n",
              "      <td>9.443281</td>\n",
              "      <td>-3.526972</td>\n",
              "      <td>-6.439575</td>\n",
              "      <td>-5.662323</td>\n",
              "      <td>1.604961</td>\n",
              "      <td>-10.863016</td>\n",
              "      <td>2.420993</td>\n",
              "      <td>-7.623889</td>\n",
              "      <td>-1.167500</td>\n",
              "      <td>-6.283725</td>\n",
              "      <td>4.871165</td>\n",
              "      <td>-5.745073</td>\n",
              "      <td>2.851269</td>\n",
              "      <td>3.349810</td>\n",
              "      <td>-2.900712</td>\n",
              "      <td>-9.048915</td>\n",
              "      <td>9.628156</td>\n",
              "      <td>2.557665</td>\n",
              "      <td>-6.029755</td>\n",
              "      <td>14.788323</td>\n",
              "    </tr>\n",
              "    <tr>\n",
              "      <th>15</th>\n",
              "      <td>0.422333</td>\n",
              "      <td>5.216098</td>\n",
              "      <td>6.346838</td>\n",
              "      <td>6.683781</td>\n",
              "      <td>-9.527245</td>\n",
              "      <td>8.231134</td>\n",
              "      <td>9.265544</td>\n",
              "      <td>-5.811340</td>\n",
              "      <td>5.284858</td>\n",
              "      <td>-2.329440</td>\n",
              "      <td>1.782248</td>\n",
              "      <td>2.628842</td>\n",
              "      <td>6.891872</td>\n",
              "      <td>8.917472</td>\n",
              "      <td>9.137161</td>\n",
              "      <td>3.337064</td>\n",
              "      <td>-6.443607</td>\n",
              "      <td>8.276711</td>\n",
              "      <td>-3.386682</td>\n",
              "      <td>2.077173</td>\n",
              "      <td>7.028008</td>\n",
              "      <td>-1.174337</td>\n",
              "      <td>8.626831</td>\n",
              "      <td>10.645114</td>\n",
              "      <td>10.391519</td>\n",
              "      <td>-7.039065</td>\n",
              "      <td>-3.310561</td>\n",
              "      <td>-3.436972</td>\n",
              "      <td>-2.718500</td>\n",
              "      <td>8.447467</td>\n",
              "      <td>10.432195</td>\n",
              "      <td>44.237334</td>\n",
              "    </tr>\n",
              "    <tr>\n",
              "      <th>16</th>\n",
              "      <td>4.967401</td>\n",
              "      <td>2.563551</td>\n",
              "      <td>-3.723634</td>\n",
              "      <td>-7.785786</td>\n",
              "      <td>6.188859</td>\n",
              "      <td>-1.295227</td>\n",
              "      <td>-3.361892</td>\n",
              "      <td>0.735183</td>\n",
              "      <td>-5.158540</td>\n",
              "      <td>-2.924278</td>\n",
              "      <td>3.572685</td>\n",
              "      <td>3.896015</td>\n",
              "      <td>-4.611894</td>\n",
              "      <td>-2.996080</td>\n",
              "      <td>-4.486567</td>\n",
              "      <td>1.663829</td>\n",
              "      <td>-6.897880</td>\n",
              "      <td>1.347785</td>\n",
              "      <td>5.869430</td>\n",
              "      <td>-6.980826</td>\n",
              "      <td>2.888858</td>\n",
              "      <td>-1.589256</td>\n",
              "      <td>6.014649</td>\n",
              "      <td>7.158111</td>\n",
              "      <td>8.206768</td>\n",
              "      <td>1.510999</td>\n",
              "      <td>2.423431</td>\n",
              "      <td>1.992773</td>\n",
              "      <td>-0.890217</td>\n",
              "      <td>-0.819318</td>\n",
              "      <td>5.127102</td>\n",
              "      <td>-2.096590</td>\n",
              "    </tr>\n",
              "    <tr>\n",
              "      <th>17</th>\n",
              "      <td>-0.171092</td>\n",
              "      <td>0.146464</td>\n",
              "      <td>-2.979798</td>\n",
              "      <td>8.873529</td>\n",
              "      <td>3.411692</td>\n",
              "      <td>-5.719698</td>\n",
              "      <td>4.599896</td>\n",
              "      <td>-2.220806</td>\n",
              "      <td>5.814943</td>\n",
              "      <td>-0.889185</td>\n",
              "      <td>-6.752539</td>\n",
              "      <td>-0.689059</td>\n",
              "      <td>-7.505667</td>\n",
              "      <td>-7.219898</td>\n",
              "      <td>-5.642597</td>\n",
              "      <td>2.037738</td>\n",
              "      <td>-0.146570</td>\n",
              "      <td>10.279871</td>\n",
              "      <td>1.812918</td>\n",
              "      <td>-7.152752</td>\n",
              "      <td>6.231786</td>\n",
              "      <td>-5.817792</td>\n",
              "      <td>-8.926243</td>\n",
              "      <td>-4.849763</td>\n",
              "      <td>3.711717</td>\n",
              "      <td>-4.317996</td>\n",
              "      <td>-2.956188</td>\n",
              "      <td>7.970249</td>\n",
              "      <td>8.920511</td>\n",
              "      <td>2.591331</td>\n",
              "      <td>0.292927</td>\n",
              "      <td>14.956655</td>\n",
              "    </tr>\n",
              "    <tr>\n",
              "      <th>18</th>\n",
              "      <td>4.084774</td>\n",
              "      <td>4.146063</td>\n",
              "      <td>-5.737654</td>\n",
              "      <td>-9.260685</td>\n",
              "      <td>4.737189</td>\n",
              "      <td>-0.170930</td>\n",
              "      <td>-6.293211</td>\n",
              "      <td>0.522965</td>\n",
              "      <td>-3.604760</td>\n",
              "      <td>-3.510279</td>\n",
              "      <td>0.714713</td>\n",
              "      <td>2.690455</td>\n",
              "      <td>-3.223141</td>\n",
              "      <td>-2.084461</td>\n",
              "      <td>-5.017934</td>\n",
              "      <td>2.405110</td>\n",
              "      <td>-7.150003</td>\n",
              "      <td>2.366519</td>\n",
              "      <td>6.368166</td>\n",
              "      <td>-6.483699</td>\n",
              "      <td>3.986695</td>\n",
              "      <td>-1.323057</td>\n",
              "      <td>6.511445</td>\n",
              "      <td>4.653886</td>\n",
              "      <td>6.427713</td>\n",
              "      <td>0.114030</td>\n",
              "      <td>3.939680</td>\n",
              "      <td>4.731892</td>\n",
              "      <td>-2.151469</td>\n",
              "      <td>0.433753</td>\n",
              "      <td>8.292126</td>\n",
              "      <td>4.168766</td>\n",
              "    </tr>\n",
              "    <tr>\n",
              "      <th>19</th>\n",
              "      <td>9.935017</td>\n",
              "      <td>-9.975659</td>\n",
              "      <td>-3.513869</td>\n",
              "      <td>-0.985378</td>\n",
              "      <td>3.953022</td>\n",
              "      <td>8.397697</td>\n",
              "      <td>9.010226</td>\n",
              "      <td>2.926247</td>\n",
              "      <td>-0.148260</td>\n",
              "      <td>-0.857704</td>\n",
              "      <td>4.267136</td>\n",
              "      <td>5.150478</td>\n",
              "      <td>4.504585</td>\n",
              "      <td>-2.250150</td>\n",
              "      <td>9.207024</td>\n",
              "      <td>4.338102</td>\n",
              "      <td>-4.809901</td>\n",
              "      <td>2.858562</td>\n",
              "      <td>6.136383</td>\n",
              "      <td>-9.695375</td>\n",
              "      <td>-6.576034</td>\n",
              "      <td>7.621639</td>\n",
              "      <td>7.618733</td>\n",
              "      <td>4.803802</td>\n",
              "      <td>7.376663</td>\n",
              "      <td>-5.983288</td>\n",
              "      <td>-9.468152</td>\n",
              "      <td>3.868318</td>\n",
              "      <td>0.402891</td>\n",
              "      <td>3.879384</td>\n",
              "      <td>-19.951317</td>\n",
              "      <td>21.396920</td>\n",
              "    </tr>\n",
              "    <tr>\n",
              "      <th>20</th>\n",
              "      <td>-1.384873</td>\n",
              "      <td>-3.285596</td>\n",
              "      <td>-0.992761</td>\n",
              "      <td>7.369633</td>\n",
              "      <td>-8.429078</td>\n",
              "      <td>-1.773541</td>\n",
              "      <td>-3.157362</td>\n",
              "      <td>-3.861533</td>\n",
              "      <td>-9.319432</td>\n",
              "      <td>-5.436894</td>\n",
              "      <td>9.178473</td>\n",
              "      <td>-4.775476</td>\n",
              "      <td>-9.423913</td>\n",
              "      <td>-0.991617</td>\n",
              "      <td>1.579116</td>\n",
              "      <td>-1.571508</td>\n",
              "      <td>8.358319</td>\n",
              "      <td>-7.030123</td>\n",
              "      <td>7.246948</td>\n",
              "      <td>-0.152151</td>\n",
              "      <td>5.148539</td>\n",
              "      <td>3.190189</td>\n",
              "      <td>-5.564885</td>\n",
              "      <td>-9.919041</td>\n",
              "      <td>8.005062</td>\n",
              "      <td>8.229787</td>\n",
              "      <td>3.407338</td>\n",
              "      <td>-0.878539</td>\n",
              "      <td>-1.691848</td>\n",
              "      <td>6.018282</td>\n",
              "      <td>-6.571191</td>\n",
              "      <td>32.091410</td>\n",
              "    </tr>\n",
              "    <tr>\n",
              "      <th>21</th>\n",
              "      <td>0.829535</td>\n",
              "      <td>7.668482</td>\n",
              "      <td>5.435133</td>\n",
              "      <td>5.609938</td>\n",
              "      <td>-7.323070</td>\n",
              "      <td>7.944009</td>\n",
              "      <td>7.134880</td>\n",
              "      <td>-3.758099</td>\n",
              "      <td>6.240386</td>\n",
              "      <td>-0.836394</td>\n",
              "      <td>-1.248295</td>\n",
              "      <td>3.620573</td>\n",
              "      <td>8.515403</td>\n",
              "      <td>7.617996</td>\n",
              "      <td>8.486152</td>\n",
              "      <td>2.487451</td>\n",
              "      <td>-8.692474</td>\n",
              "      <td>6.818282</td>\n",
              "      <td>-3.235556</td>\n",
              "      <td>0.180621</td>\n",
              "      <td>9.788700</td>\n",
              "      <td>-0.214321</td>\n",
              "      <td>5.692356</td>\n",
              "      <td>10.160541</td>\n",
              "      <td>7.957930</td>\n",
              "      <td>-3.502675</td>\n",
              "      <td>-4.336981</td>\n",
              "      <td>-3.872111</td>\n",
              "      <td>-1.016021</td>\n",
              "      <td>6.247483</td>\n",
              "      <td>15.336964</td>\n",
              "      <td>33.237416</td>\n",
              "    </tr>\n",
              "    <tr>\n",
              "      <th>22</th>\n",
              "      <td>2.192304</td>\n",
              "      <td>9.790791</td>\n",
              "      <td>9.415765</td>\n",
              "      <td>4.976770</td>\n",
              "      <td>-10.657479</td>\n",
              "      <td>2.453121</td>\n",
              "      <td>-1.460556</td>\n",
              "      <td>-0.997777</td>\n",
              "      <td>2.455688</td>\n",
              "      <td>-5.705874</td>\n",
              "      <td>-5.076239</td>\n",
              "      <td>2.677630</td>\n",
              "      <td>5.875439</td>\n",
              "      <td>9.154017</td>\n",
              "      <td>6.878198</td>\n",
              "      <td>-8.820626</td>\n",
              "      <td>-7.216247</td>\n",
              "      <td>6.487831</td>\n",
              "      <td>-5.179952</td>\n",
              "      <td>-4.543032</td>\n",
              "      <td>6.247291</td>\n",
              "      <td>9.046475</td>\n",
              "      <td>1.080001</td>\n",
              "      <td>-7.429291</td>\n",
              "      <td>6.354640</td>\n",
              "      <td>0.890221</td>\n",
              "      <td>1.120088</td>\n",
              "      <td>6.175373</td>\n",
              "      <td>-1.603671</td>\n",
              "      <td>-0.180257</td>\n",
              "      <td>19.581582</td>\n",
              "      <td>1.098715</td>\n",
              "    </tr>\n",
              "    <tr>\n",
              "      <th>23</th>\n",
              "      <td>0.679820</td>\n",
              "      <td>8.584065</td>\n",
              "      <td>9.139620</td>\n",
              "      <td>6.211884</td>\n",
              "      <td>-9.647971</td>\n",
              "      <td>3.958831</td>\n",
              "      <td>-1.921445</td>\n",
              "      <td>-0.064465</td>\n",
              "      <td>0.771994</td>\n",
              "      <td>-5.942555</td>\n",
              "      <td>-4.540175</td>\n",
              "      <td>4.186689</td>\n",
              "      <td>6.623955</td>\n",
              "      <td>7.606394</td>\n",
              "      <td>5.349593</td>\n",
              "      <td>-8.548059</td>\n",
              "      <td>-7.259703</td>\n",
              "      <td>5.848206</td>\n",
              "      <td>-4.187196</td>\n",
              "      <td>-5.094200</td>\n",
              "      <td>6.134661</td>\n",
              "      <td>9.104457</td>\n",
              "      <td>2.461523</td>\n",
              "      <td>-6.920528</td>\n",
              "      <td>6.456060</td>\n",
              "      <td>-0.959014</td>\n",
              "      <td>1.844333</td>\n",
              "      <td>6.594896</td>\n",
              "      <td>-1.651830</td>\n",
              "      <td>-1.588189</td>\n",
              "      <td>17.168130</td>\n",
              "      <td>-5.940943</td>\n",
              "    </tr>\n",
              "    <tr>\n",
              "      <th>24</th>\n",
              "      <td>1.021689</td>\n",
              "      <td>6.806108</td>\n",
              "      <td>7.758769</td>\n",
              "      <td>6.096062</td>\n",
              "      <td>-9.981084</td>\n",
              "      <td>3.142467</td>\n",
              "      <td>-3.211606</td>\n",
              "      <td>-0.267848</td>\n",
              "      <td>3.175045</td>\n",
              "      <td>-5.608387</td>\n",
              "      <td>-3.755798</td>\n",
              "      <td>4.602241</td>\n",
              "      <td>6.267448</td>\n",
              "      <td>5.724612</td>\n",
              "      <td>4.447755</td>\n",
              "      <td>-8.810118</td>\n",
              "      <td>-9.196272</td>\n",
              "      <td>4.860056</td>\n",
              "      <td>-5.147244</td>\n",
              "      <td>-6.904479</td>\n",
              "      <td>7.568306</td>\n",
              "      <td>10.272543</td>\n",
              "      <td>1.143658</td>\n",
              "      <td>-7.827607</td>\n",
              "      <td>4.265734</td>\n",
              "      <td>0.280791</td>\n",
              "      <td>3.731499</td>\n",
              "      <td>7.868644</td>\n",
              "      <td>-0.745062</td>\n",
              "      <td>-0.797866</td>\n",
              "      <td>13.612215</td>\n",
              "      <td>-1.989331</td>\n",
              "    </tr>\n",
              "    <tr>\n",
              "      <th>25</th>\n",
              "      <td>1.749776</td>\n",
              "      <td>-3.402472</td>\n",
              "      <td>-8.124445</td>\n",
              "      <td>11.120042</td>\n",
              "      <td>1.019984</td>\n",
              "      <td>3.806694</td>\n",
              "      <td>-6.547528</td>\n",
              "      <td>3.950444</td>\n",
              "      <td>4.479765</td>\n",
              "      <td>6.056665</td>\n",
              "      <td>8.298279</td>\n",
              "      <td>6.234985</td>\n",
              "      <td>-2.200249</td>\n",
              "      <td>7.788470</td>\n",
              "      <td>-9.798763</td>\n",
              "      <td>6.901968</td>\n",
              "      <td>7.447763</td>\n",
              "      <td>1.781045</td>\n",
              "      <td>1.833896</td>\n",
              "      <td>9.961603</td>\n",
              "      <td>-2.558045</td>\n",
              "      <td>0.557696</td>\n",
              "      <td>-0.744730</td>\n",
              "      <td>4.399252</td>\n",
              "      <td>-7.684606</td>\n",
              "      <td>-8.208365</td>\n",
              "      <td>-7.949302</td>\n",
              "      <td>7.342316</td>\n",
              "      <td>-2.979120</td>\n",
              "      <td>1.014903</td>\n",
              "      <td>-6.804944</td>\n",
              "      <td>7.074517</td>\n",
              "    </tr>\n",
              "    <tr>\n",
              "      <th>26</th>\n",
              "      <td>9.143669</td>\n",
              "      <td>-9.346808</td>\n",
              "      <td>-4.526668</td>\n",
              "      <td>-0.829281</td>\n",
              "      <td>7.349988</td>\n",
              "      <td>9.433047</td>\n",
              "      <td>8.432376</td>\n",
              "      <td>1.202600</td>\n",
              "      <td>0.588414</td>\n",
              "      <td>1.783694</td>\n",
              "      <td>5.075425</td>\n",
              "      <td>2.971561</td>\n",
              "      <td>4.630006</td>\n",
              "      <td>-3.485907</td>\n",
              "      <td>8.434302</td>\n",
              "      <td>4.320500</td>\n",
              "      <td>-3.994538</td>\n",
              "      <td>3.284922</td>\n",
              "      <td>7.696353</td>\n",
              "      <td>-10.425976</td>\n",
              "      <td>-6.861569</td>\n",
              "      <td>9.898477</td>\n",
              "      <td>5.794530</td>\n",
              "      <td>5.510137</td>\n",
              "      <td>9.406802</td>\n",
              "      <td>-4.835606</td>\n",
              "      <td>-8.331029</td>\n",
              "      <td>3.723215</td>\n",
              "      <td>-1.855676</td>\n",
              "      <td>5.408745</td>\n",
              "      <td>-18.693616</td>\n",
              "      <td>29.043726</td>\n",
              "    </tr>\n",
              "    <tr>\n",
              "      <th>27</th>\n",
              "      <td>-0.830343</td>\n",
              "      <td>-4.885333</td>\n",
              "      <td>-5.769567</td>\n",
              "      <td>9.233390</td>\n",
              "      <td>-2.056981</td>\n",
              "      <td>4.924050</td>\n",
              "      <td>-5.728058</td>\n",
              "      <td>5.779949</td>\n",
              "      <td>3.826405</td>\n",
              "      <td>5.789423</td>\n",
              "      <td>9.304918</td>\n",
              "      <td>5.133988</td>\n",
              "      <td>-2.078911</td>\n",
              "      <td>8.285459</td>\n",
              "      <td>-9.126849</td>\n",
              "      <td>6.178225</td>\n",
              "      <td>6.732545</td>\n",
              "      <td>-0.210342</td>\n",
              "      <td>2.587024</td>\n",
              "      <td>9.324424</td>\n",
              "      <td>-3.003273</td>\n",
              "      <td>-0.843492</td>\n",
              "      <td>0.393064</td>\n",
              "      <td>2.413255</td>\n",
              "      <td>-10.088415</td>\n",
              "      <td>-8.127147</td>\n",
              "      <td>-9.972856</td>\n",
              "      <td>8.513358</td>\n",
              "      <td>-6.581171</td>\n",
              "      <td>2.241602</td>\n",
              "      <td>-9.770667</td>\n",
              "      <td>13.208009</td>\n",
              "    </tr>\n",
              "    <tr>\n",
              "      <th>28</th>\n",
              "      <td>5.487256</td>\n",
              "      <td>5.031123</td>\n",
              "      <td>-9.623679</td>\n",
              "      <td>-8.329317</td>\n",
              "      <td>7.494462</td>\n",
              "      <td>2.076323</td>\n",
              "      <td>6.938454</td>\n",
              "      <td>1.677851</td>\n",
              "      <td>4.095920</td>\n",
              "      <td>0.000350</td>\n",
              "      <td>4.572206</td>\n",
              "      <td>-2.087739</td>\n",
              "      <td>-1.763396</td>\n",
              "      <td>-2.627516</td>\n",
              "      <td>-1.496601</td>\n",
              "      <td>5.763952</td>\n",
              "      <td>-1.993206</td>\n",
              "      <td>-2.935027</td>\n",
              "      <td>-2.805372</td>\n",
              "      <td>-1.506044</td>\n",
              "      <td>3.358601</td>\n",
              "      <td>-7.146870</td>\n",
              "      <td>3.163065</td>\n",
              "      <td>-5.930493</td>\n",
              "      <td>8.768808</td>\n",
              "      <td>-8.724111</td>\n",
              "      <td>5.459297</td>\n",
              "      <td>-3.378179</td>\n",
              "      <td>-8.966237</td>\n",
              "      <td>5.257235</td>\n",
              "      <td>10.062245</td>\n",
              "      <td>28.286176</td>\n",
              "    </tr>\n",
              "    <tr>\n",
              "      <th>29</th>\n",
              "      <td>10.288836</td>\n",
              "      <td>-11.967956</td>\n",
              "      <td>-4.885855</td>\n",
              "      <td>-0.005153</td>\n",
              "      <td>6.606277</td>\n",
              "      <td>8.406112</td>\n",
              "      <td>9.624372</td>\n",
              "      <td>1.081232</td>\n",
              "      <td>-0.683769</td>\n",
              "      <td>-1.086257</td>\n",
              "      <td>2.170427</td>\n",
              "      <td>5.689010</td>\n",
              "      <td>3.728156</td>\n",
              "      <td>-1.573777</td>\n",
              "      <td>10.094974</td>\n",
              "      <td>6.336514</td>\n",
              "      <td>-4.750979</td>\n",
              "      <td>2.263263</td>\n",
              "      <td>7.188171</td>\n",
              "      <td>-9.570843</td>\n",
              "      <td>-10.387911</td>\n",
              "      <td>8.796539</td>\n",
              "      <td>6.512915</td>\n",
              "      <td>4.245041</td>\n",
              "      <td>8.123460</td>\n",
              "      <td>-5.260873</td>\n",
              "      <td>-7.935303</td>\n",
              "      <td>4.763424</td>\n",
              "      <td>-0.912337</td>\n",
              "      <td>5.149819</td>\n",
              "      <td>-23.935912</td>\n",
              "      <td>27.749097</td>\n",
              "    </tr>\n",
              "    <tr>\n",
              "      <th>30</th>\n",
              "      <td>0.920289</td>\n",
              "      <td>-3.523066</td>\n",
              "      <td>-6.161285</td>\n",
              "      <td>10.272704</td>\n",
              "      <td>-1.058101</td>\n",
              "      <td>6.005938</td>\n",
              "      <td>-5.720119</td>\n",
              "      <td>4.615576</td>\n",
              "      <td>3.706486</td>\n",
              "      <td>5.621496</td>\n",
              "      <td>8.235600</td>\n",
              "      <td>4.742073</td>\n",
              "      <td>-2.046181</td>\n",
              "      <td>9.766870</td>\n",
              "      <td>-9.519413</td>\n",
              "      <td>5.963858</td>\n",
              "      <td>5.995108</td>\n",
              "      <td>0.802934</td>\n",
              "      <td>3.182445</td>\n",
              "      <td>8.108418</td>\n",
              "      <td>-0.736998</td>\n",
              "      <td>1.445801</td>\n",
              "      <td>-0.632871</td>\n",
              "      <td>5.360604</td>\n",
              "      <td>-9.591982</td>\n",
              "      <td>-8.001338</td>\n",
              "      <td>-5.760794</td>\n",
              "      <td>6.805573</td>\n",
              "      <td>-3.780232</td>\n",
              "      <td>2.710823</td>\n",
              "      <td>-7.046132</td>\n",
              "      <td>15.554117</td>\n",
              "    </tr>\n",
              "    <tr>\n",
              "      <th>31</th>\n",
              "      <td>-0.490201</td>\n",
              "      <td>-4.679154</td>\n",
              "      <td>-3.447284</td>\n",
              "      <td>4.571444</td>\n",
              "      <td>4.031850</td>\n",
              "      <td>10.032912</td>\n",
              "      <td>3.119702</td>\n",
              "      <td>1.224949</td>\n",
              "      <td>-7.092158</td>\n",
              "      <td>1.249056</td>\n",
              "      <td>-2.054085</td>\n",
              "      <td>-5.492434</td>\n",
              "      <td>3.514062</td>\n",
              "      <td>9.274206</td>\n",
              "      <td>2.741043</td>\n",
              "      <td>0.471794</td>\n",
              "      <td>1.740727</td>\n",
              "      <td>10.174357</td>\n",
              "      <td>6.441719</td>\n",
              "      <td>7.142401</td>\n",
              "      <td>-3.563319</td>\n",
              "      <td>-2.511667</td>\n",
              "      <td>7.430871</td>\n",
              "      <td>-0.525092</td>\n",
              "      <td>-2.101366</td>\n",
              "      <td>3.640764</td>\n",
              "      <td>3.405823</td>\n",
              "      <td>6.303453</td>\n",
              "      <td>0.891300</td>\n",
              "      <td>7.969905</td>\n",
              "      <td>-9.358308</td>\n",
              "      <td>41.849526</td>\n",
              "    </tr>\n",
              "  </tbody>\n",
              "</table>\n",
              "</div>"
            ],
            "text/plain": [
              "           0          1         2   ...        29         30         31\n",
              "1   -1.178806  -1.705041 -2.304133  ...  4.121820  -3.410083  22.609099\n",
              "2    0.904578   4.691859 -3.682533  ... -4.350617   9.383718 -19.753085\n",
              "3   -8.309558  -0.700731 -6.674782  ...  3.645643  -1.401462  20.228213\n",
              "4    8.340888  -8.214758 -5.512123  ...  6.126067 -16.429515  32.630334\n",
              "5   -0.008196  -3.905819 -2.637004  ...  3.435147  -7.811637  19.175733\n",
              "6   -1.451118  -3.321407 -2.468177  ...  4.297260  -6.642815  23.486299\n",
              "7    0.671690  -3.830463 -0.928794  ...  7.904193  -7.660926  41.520964\n",
              "8    5.277115   8.073927  5.872592  ...  2.673430  16.147854  15.367151\n",
              "9    1.025774  -2.732722 -5.124041  ...  1.767736  -5.465443  10.838681\n",
              "10   2.499005   7.459226  8.574196  ...  0.299982  14.918453   3.499909\n",
              "11  -1.142359  -7.481156 -0.340936  ...  7.388655 -14.962312  38.943277\n",
              "12  -0.468797  -3.270112 -1.763467  ...  7.880260  -6.540224  41.401301\n",
              "13   0.297052  -0.712293 -0.263445  ...  2.399073  -1.424585  13.995367\n",
              "14  -7.464180  -3.014878 -7.282297  ...  2.557665  -6.029755  14.788323\n",
              "15   0.422333   5.216098  6.346838  ...  8.447467  10.432195  44.237334\n",
              "16   4.967401   2.563551 -3.723634  ... -0.819318   5.127102  -2.096590\n",
              "17  -0.171092   0.146464 -2.979798  ...  2.591331   0.292927  14.956655\n",
              "18   4.084774   4.146063 -5.737654  ...  0.433753   8.292126   4.168766\n",
              "19   9.935017  -9.975659 -3.513869  ...  3.879384 -19.951317  21.396920\n",
              "20  -1.384873  -3.285596 -0.992761  ...  6.018282  -6.571191  32.091410\n",
              "21   0.829535   7.668482  5.435133  ...  6.247483  15.336964  33.237416\n",
              "22   2.192304   9.790791  9.415765  ... -0.180257  19.581582   1.098715\n",
              "23   0.679820   8.584065  9.139620  ... -1.588189  17.168130  -5.940943\n",
              "24   1.021689   6.806108  7.758769  ... -0.797866  13.612215  -1.989331\n",
              "25   1.749776  -3.402472 -8.124445  ...  1.014903  -6.804944   7.074517\n",
              "26   9.143669  -9.346808 -4.526668  ...  5.408745 -18.693616  29.043726\n",
              "27  -0.830343  -4.885333 -5.769567  ...  2.241602  -9.770667  13.208009\n",
              "28   5.487256   5.031123 -9.623679  ...  5.257235  10.062245  28.286176\n",
              "29  10.288836 -11.967956 -4.885855  ...  5.149819 -23.935912  27.749097\n",
              "30   0.920289  -3.523066 -6.161285  ...  2.710823  -7.046132  15.554117\n",
              "31  -0.490201  -4.679154 -3.447284  ...  7.969905  -9.358308  41.849526\n",
              "\n",
              "[31 rows x 32 columns]"
            ]
          },
          "metadata": {
            "tags": []
          },
          "execution_count": 24
        }
      ]
    },
    {
      "cell_type": "markdown",
      "metadata": {
        "id": "KMsod7K5He8b"
      },
      "source": [
        "ทำการ clustering โดยวิธี K-means\n",
        "\n",
        " K-means คือการแบ่งกลุ่ม แบบ Clustering ซึ่งการแบ่งกลุ่มในลักษณะนี้จะใช้พื้นฐานทางสถิติ ซึ่งแน่นอนว่าต้องมีตัวเลขประกอบ อย่างน้อย 2 ตัวแปรขึ้นไป"
      ]
    },
    {
      "cell_type": "markdown",
      "metadata": {
        "id": "iCWxagqTITmS"
      },
      "source": [
        "### K-mean"
      ]
    },
    {
      "cell_type": "markdown",
      "metadata": {
        "id": "7hYuGzTvI4QB"
      },
      "source": [
        "Import"
      ]
    },
    {
      "cell_type": "code",
      "metadata": {
        "id": "5GREMW5hIST1"
      },
      "source": [
        "from sklearn.cluster import KMeans"
      ],
      "execution_count": 25,
      "outputs": []
    },
    {
      "cell_type": "markdown",
      "metadata": {
        "id": "OYsD2vutJAGt"
      },
      "source": [
        "Define"
      ]
    },
    {
      "cell_type": "code",
      "metadata": {
        "id": "LAUPBZnL_M_e"
      },
      "source": [
        "kmeans = KMeans(n_clusters=3, random_state=2021) #ไม่รู้ว่ามีกี่กลุ้มแต่ลองสมมติให้จำแนกข้อมูลเป็น 3 กลุ่ม"
      ],
      "execution_count": 26,
      "outputs": []
    },
    {
      "cell_type": "markdown",
      "metadata": {
        "id": "_5f6ifODJKu2"
      },
      "source": [
        "Fit - Transform\n",
        "\n",
        "คำนวณหาจุด cluter centers ของข้อมูล example_df_drop ด้วยวิธี K-means clustering"
      ]
    },
    {
      "cell_type": "code",
      "metadata": {
        "id": "EQ7hy8vKJLV5",
        "outputId": "8f47b0ef-8a0b-4a50-e4b4-d11e21410481",
        "colab": {
          "base_uri": "https://localhost:8080/"
        }
      },
      "source": [
        "kmeans.fit(Data)"
      ],
      "execution_count": 27,
      "outputs": [
        {
          "output_type": "execute_result",
          "data": {
            "text/plain": [
              "KMeans(algorithm='auto', copy_x=True, init='k-means++', max_iter=300,\n",
              "       n_clusters=3, n_init=10, n_jobs=None, precompute_distances='auto',\n",
              "       random_state=2021, tol=0.0001, verbose=0)"
            ]
          },
          "metadata": {
            "tags": []
          },
          "execution_count": 27
        }
      ]
    },
    {
      "cell_type": "markdown",
      "metadata": {
        "id": "bJszfZyuLAsz"
      },
      "source": [
        "แสดง จุด cluster centers ที่คำนวณออกมาได้"
      ]
    },
    {
      "cell_type": "code",
      "metadata": {
        "id": "yDPK7-lALBQT",
        "outputId": "cf676a8b-e72f-4497-c455-d5a68d0e1f92",
        "colab": {
          "base_uri": "https://localhost:8080/"
        }
      },
      "source": [
        "kmeans.cluster_centers_"
      ],
      "execution_count": 28,
      "outputs": [
        {
          "output_type": "execute_result",
          "data": {
            "text/plain": [
              "array([[ 2.36312112e+00, -3.57334831e+00, -2.98576187e-01,\n",
              "         4.44720149e+00, -1.62739872e+00,  6.09856381e+00,\n",
              "         4.73017951e+00, -1.94983759e+00, -2.98145262e+00,\n",
              "        -2.12826486e+00,  2.53710462e+00, -4.61318995e-01,\n",
              "         1.50048996e+00,  2.82098171e+00,  5.95444794e+00,\n",
              "         1.82802363e+00, -3.28184200e-01,  3.14333971e+00,\n",
              "         5.08958206e+00, -4.48039417e-01,  5.18546986e-01,\n",
              "         2.01307568e+00,  3.90618986e+00,  1.44977948e+00,\n",
              "         6.12219763e+00,  2.78653425e-01, -1.09583798e+00,\n",
              "         9.26455179e-01, -9.93665092e-01,  7.11081508e+00,\n",
              "        -7.14669663e+00,  3.75540754e+01],\n",
              "       [ 1.26325758e+00,  2.69438228e+00, -2.17233773e+00,\n",
              "         1.50249405e+00,  1.32928978e+00, -1.65430771e+00,\n",
              "         2.68054221e+00,  2.11375769e+00,  3.97754902e+00,\n",
              "        -2.25748407e+00,  7.01694096e-01, -3.97764877e-01,\n",
              "        -1.34572953e+00, -1.13655333e+00, -3.91278994e+00,\n",
              "        -4.38672748e-01, -7.96311024e-02,  1.73583594e+00,\n",
              "         1.49793300e+00, -1.83552656e+00,  1.07398355e+00,\n",
              "        -9.70489782e-01, -4.62353988e-01, -2.25411811e+00,\n",
              "         3.92834937e+00, -3.02630888e+00,  5.30565708e-01,\n",
              "         2.01208900e+00,  1.32271043e+00,  2.35519366e+00,\n",
              "         5.38876455e+00,  1.37759683e+01],\n",
              "       [-1.73750347e-01, -2.42889830e+00, -3.55200523e-01,\n",
              "        -5.52573370e-01,  5.75032608e+00, -4.90882655e+00,\n",
              "        -3.53990478e+00, -5.06178067e+00, -2.20974237e+00,\n",
              "        -2.53716035e+00, -2.44806446e+00,  3.41613194e+00,\n",
              "         5.02233030e+00,  2.04931085e+00, -3.41290716e+00,\n",
              "         3.08319348e+00,  3.60474030e+00,  7.24771545e-01,\n",
              "        -6.78664261e+00,  4.90361749e+00, -8.13489979e-01,\n",
              "         6.26282052e-01, -6.34045698e-01, -3.79691929e+00,\n",
              "         4.64634305e-01, -6.99478803e+00,  3.08680308e-02,\n",
              "         2.37589921e+00, -1.34942178e-01, -7.23897232e+00,\n",
              "        -4.85779660e+00, -3.41948616e+01]])"
            ]
          },
          "metadata": {
            "tags": []
          },
          "execution_count": 28
        }
      ]
    },
    {
      "cell_type": "markdown",
      "metadata": {
        "id": "CzuOIk28MB3z"
      },
      "source": [
        "ทดสอบการจัดกลุ่มของ Data"
      ]
    },
    {
      "cell_type": "code",
      "metadata": {
        "id": "t5YiKlcHMCQ9",
        "outputId": "8e2f88fe-af57-4096-e627-17c895830f9b",
        "colab": {
          "base_uri": "https://localhost:8080/"
        }
      },
      "source": [
        "y = kmeans.predict(Data)\n",
        "y"
      ],
      "execution_count": 29,
      "outputs": [
        {
          "output_type": "execute_result",
          "data": {
            "text/plain": [
              "array([1, 1, 2, ..., 1, 1, 0], dtype=int32)"
            ]
          },
          "metadata": {
            "tags": []
          },
          "execution_count": 29
        }
      ]
    },
    {
      "cell_type": "markdown",
      "metadata": {
        "id": "zU1zZoX-MYHM"
      },
      "source": [
        "ทำ PCA ข้อมูล Data แล้ว วาดกราฟ scatter plot โดยใส่สีตามผลการทำ kmeans clustering แล้วนำมาเทียบกับ กราฟ PCA - scatter ของข้อมูลจริง"
      ]
    },
    {
      "cell_type": "code",
      "metadata": {
        "id": "t8nqf790MaTa"
      },
      "source": [
        "from sklearn.decomposition import PCA #import\n",
        "\n",
        "pca = PCA(n_components=2) #define\n",
        "\n",
        "new_pca = pca.fit_transform(Data) #fit-transform"
      ],
      "execution_count": 30,
      "outputs": []
    },
    {
      "cell_type": "code",
      "metadata": {
        "id": "xl5-y0ErN-8j",
        "outputId": "b60fbbe9-c5a0-47de-9ed0-79e830031a20",
        "colab": {
          "base_uri": "https://localhost:8080/"
        }
      },
      "source": [
        "new_pca.shape"
      ],
      "execution_count": 31,
      "outputs": [
        {
          "output_type": "execute_result",
          "data": {
            "text/plain": [
              "(10000, 2)"
            ]
          },
          "metadata": {
            "tags": []
          },
          "execution_count": 31
        }
      ]
    },
    {
      "cell_type": "code",
      "metadata": {
        "id": "Xk--ul91OAQz",
        "outputId": "537e17be-6b6b-4599-bb01-239b054950bf",
        "colab": {
          "base_uri": "https://localhost:8080/"
        }
      },
      "source": [
        "new_pca"
      ],
      "execution_count": 32,
      "outputs": [
        {
          "output_type": "execute_result",
          "data": {
            "text/plain": [
              "array([[  1.76494662,  -1.4466905 ],\n",
              "       [ -6.98031497,   0.99667487],\n",
              "       [ 37.88030012,  11.03028462],\n",
              "       ...,\n",
              "       [-11.14853928,  15.29958258],\n",
              "       [-11.32773815,  29.4151275 ],\n",
              "       [-19.36078603,  -5.08943316]])"
            ]
          },
          "metadata": {
            "tags": []
          },
          "execution_count": 32
        }
      ]
    },
    {
      "cell_type": "markdown",
      "metadata": {
        "id": "eo3WoNlMONFf"
      },
      "source": [
        "ของจริง"
      ]
    },
    {
      "cell_type": "code",
      "metadata": {
        "id": "11UvS5ZPONy4"
      },
      "source": [
        "from matplotlib import pyplot as plt"
      ],
      "execution_count": 33,
      "outputs": []
    },
    {
      "cell_type": "code",
      "metadata": {
        "id": "cJFwDaOZORYz",
        "outputId": "7c45f9ba-ca21-4ec2-ac46-e0370af817eb",
        "colab": {
          "base_uri": "https://localhost:8080/",
          "height": 282
        }
      },
      "source": [
        "kmeans = KMeans(n_clusters=3, random_state=2021)\n",
        "kmeans.fit(Data)\n",
        "y = kmeans.predict(Data)\n",
        "plt.scatter(new_pca[:,0],new_pca[:,1],c=y)"
      ],
      "execution_count": 37,
      "outputs": [
        {
          "output_type": "execute_result",
          "data": {
            "text/plain": [
              "<matplotlib.collections.PathCollection at 0x7fc981211190>"
            ]
          },
          "metadata": {
            "tags": []
          },
          "execution_count": 37
        },
        {
          "output_type": "display_data",
          "data": {
            "image/png": "[encoded data removed]",
            "text/plain": [
              "<Figure size 432x288 with 1 Axes>"
            ]
          },
          "metadata": {
            "tags": [],
            "needs_background": "light"
          }
        }
      ]
    },
    {
      "cell_type": "code",
      "metadata": {
        "id": "6z3F5N3_RNpa",
        "outputId": "1ada9a4d-3c53-455b-893d-836c3b7e9686",
        "colab": {
          "base_uri": "https://localhost:8080/",
          "height": 282
        }
      },
      "source": [
        "plt.scatter(new_pca[:,0],new_pca[:,1],c=y) #ค่ากลางของ cluster\n",
        "plt.plot(kmeans.cluster_centers_[:,0],kmeans.cluster_centers_[:,1],'or')"
      ],
      "execution_count": 38,
      "outputs": [
        {
          "output_type": "execute_result",
          "data": {
            "text/plain": [
              "[<matplotlib.lines.Line2D at 0x7fc98118d910>]"
            ]
          },
          "metadata": {
            "tags": []
          },
          "execution_count": 38
        },
        {
          "output_type": "display_data",
          "data": {
            "image/png": "[encoded data removed]",
            "text/plain": [
              "<Figure size 432x288 with 1 Axes>"
            ]
          },
          "metadata": {
            "tags": [],
            "needs_background": "light"
          }
        }
      ]
    },
    {
      "cell_type": "markdown",
      "metadata": {
        "id": "alh3vN0ESUvE"
      },
      "source": [
        "ทำการหาค่า k ที่เหมาะสม โดยการใช้ Elbow Method "
      ]
    },
    {
      "cell_type": "markdown",
      "metadata": {
        "id": "jdppTMenUQzc"
      },
      "source": [
        "SSE\n",
        "\n",
        "คือระยะห่างจากจุดศูนย์กลาง"
      ]
    },
    {
      "cell_type": "code",
      "metadata": {
        "id": "8-BaYS5JSURN",
        "outputId": "f321e058-1252-4ac4-a3d2-35f59f88f6c0",
        "colab": {
          "base_uri": "https://localhost:8080/"
        }
      },
      "source": [
        "kmeans.inertia_ ## Sum of Squared Errors"
      ],
      "execution_count": 39,
      "outputs": [
        {
          "output_type": "execute_result",
          "data": {
            "text/plain": [
              "10129784.269352978"
            ]
          },
          "metadata": {
            "tags": []
          },
          "execution_count": 39
        }
      ]
    },
    {
      "cell_type": "code",
      "metadata": {
        "id": "ECYM_-cBUrs_"
      },
      "source": [
        "SSE = list()\n",
        "for k in [1,2,3,4,5,6,7,8]:\n",
        "    kmeans = KMeans(n_clusters=k, random_state=2021)\n",
        "    XX = kmeans.fit(Data)\n",
        "    SSE.append(kmeans.inertia_)"
      ],
      "execution_count": 42,
      "outputs": []
    },
    {
      "cell_type": "code",
      "metadata": {
        "id": "cdRZkCkIU3w_",
        "outputId": "1f48e973-b7c6-4650-c1a1-4f2cf5f1c70e",
        "colab": {
          "base_uri": "https://localhost:8080/"
        }
      },
      "source": [
        "SSE"
      ],
      "execution_count": 43,
      "outputs": [
        {
          "output_type": "execute_result",
          "data": {
            "text/plain": [
              "[17376235.56078428,\n",
              " 12379473.796194354,\n",
              " 10129784.269352978,\n",
              " 8730523.544304458,\n",
              " 7615456.759086133,\n",
              " 6520299.778351892,\n",
              " 5320747.510562791,\n",
              " 4223015.069657261]"
            ]
          },
          "metadata": {
            "tags": []
          },
          "execution_count": 43
        }
      ]
    },
    {
      "cell_type": "code",
      "metadata": {
        "id": "6id4f9oUVO42",
        "outputId": "30039903-e6b3-418b-b647-195817c5ec98",
        "colab": {
          "base_uri": "https://localhost:8080/",
          "height": 307
        }
      },
      "source": [
        "plt.plot([1,2,3,4,5,6,7,8],SSE,'o-b') #กราฟแสดงจำนวน K ที่เหมาะสม\n",
        "plt.xlabel('k')\n",
        "plt.ylabel('SSE')\n",
        "#จุดที่หัก คือจุดที่ 2"
      ],
      "execution_count": 44,
      "outputs": [
        {
          "output_type": "execute_result",
          "data": {
            "text/plain": [
              "Text(0, 0.5, 'SSE')"
            ]
          },
          "metadata": {
            "tags": []
          },
          "execution_count": 44
        },
        {
          "output_type": "display_data",
          "data": {
            "image/png": "[encoded data removed]",
            "text/plain": [
              "<Figure size 432x288 with 1 Axes>"
            ]
          },
          "metadata": {
            "tags": [],
            "needs_background": "light"
          }
        }
      ]
    },
    {
      "cell_type": "markdown",
      "metadata": {
        "id": "Vm_pPNWfVUPH"
      },
      "source": [
        "Silhouette coefficient (หาค่า K)\n",
        "\n",
        "How close the data point is to other points in the cluster (จุดในกลุ่มของตัวมันเองใกล้กันแค่ไหน)\n",
        "\n",
        "How far away the data point is from points in other clusters (จุดของแต่ละกลุ่มที่ไม่ได้อยู่กลุ่มเดียวกันไกลกันแค่ไหน)"
      ]
    },
    {
      "cell_type": "code",
      "metadata": {
        "id": "tZg4CsvwVUxl"
      },
      "source": [
        "from sklearn import metrics"
      ],
      "execution_count": 45,
      "outputs": []
    },
    {
      "cell_type": "code",
      "metadata": {
        "id": "yAGBF6CTXJkF"
      },
      "source": [
        "SilH = list()\n",
        "for k in [2,3,4,5,6,7,8]:\n",
        "    kmeans = KMeans(n_clusters=k, random_state=2021)\n",
        "    kmeans.fit(Data)\n",
        "    score = metrics.silhouette_score(Data,kmeans.labels_)\n",
        "    SilH.append(score)"
      ],
      "execution_count": 46,
      "outputs": []
    },
    {
      "cell_type": "code",
      "metadata": {
        "id": "HHi9uPnNXkHo",
        "outputId": "84efe487-a636-49df-bb82-89caf9eb2424",
        "colab": {
          "base_uri": "https://localhost:8080/",
          "height": 296
        }
      },
      "source": [
        "plt.plot([2,3,4,5,6,7,8],SilH,'o-g')\n",
        "plt.xlabel('k')\n",
        "plt.ylabel('Silhouette Score') #ดีที่สุดคือ 8 เพราะมีค่าสูงสุด"
      ],
      "execution_count": 47,
      "outputs": [
        {
          "output_type": "execute_result",
          "data": {
            "text/plain": [
              "Text(0, 0.5, 'Silhouette Score')"
            ]
          },
          "metadata": {
            "tags": []
          },
          "execution_count": 47
        },
        {
          "output_type": "display_data",
          "data": {
            "image/png": "[encoded data removed]",
            "text/plain": [
              "<Figure size 432x288 with 1 Axes>"
            ]
          },
          "metadata": {
            "tags": [],
            "needs_background": "light"
          }
        }
      ]
    },
    {
      "cell_type": "markdown",
      "metadata": {
        "id": "h8vjj9OZcM-D"
      },
      "source": [
        "3. ลด Dimension ของข้อมูลเหลือ 2 มิติ แล้วทำ clustering แล้ว visualize ข้อมูลแบบ 2 มิติ"
      ]
    },
    {
      "cell_type": "markdown",
      "metadata": {
        "id": "qH-d9RTGdS9W"
      },
      "source": [
        "ลด Dimension โดยวิธี MDS ใช้ plot กราฟ เพื่อวิเคราะห์ข้อมูลที่ไม่ทราบถึงตัวแปรหรือมิติที่สำคัญ"
      ]
    },
    {
      "cell_type": "code",
      "metadata": {
        "id": "mvsL8S6yb96D"
      },
      "source": [
        "from sklearn.manifold import MDS"
      ],
      "execution_count": 48,
      "outputs": []
    },
    {
      "cell_type": "code",
      "metadata": {
        "id": "nUp7WX5_kvjs"
      },
      "source": [
        "mds = MDS(n_components=2) #dimension = 2"
      ],
      "execution_count": 49,
      "outputs": []
    },
    {
      "cell_type": "code",
      "metadata": {
        "id": "HUcQc04Jk0Cg"
      },
      "source": [
        "new_mds = mds.fit_transform(Data)"
      ],
      "execution_count": 50,
      "outputs": []
    },
    {
      "cell_type": "code",
      "metadata": {
        "id": "qiS4sobizYHY"
      },
      "source": [
        "kmeans_2 = KMeans(n_clusters=8,random_state=2021)  #ให้ k= 8   \n",
        "kmeans_2.fit(Data)\n",
        "g = kmeans_2.predict(Data)"
      ],
      "execution_count": 52,
      "outputs": []
    },
    {
      "cell_type": "code",
      "metadata": {
        "id": "w3pvOl46znFa",
        "outputId": "223a941a-c4ae-4e56-bd2b-d269b1769747",
        "colab": {
          "base_uri": "https://localhost:8080/",
          "height": 282
        }
      },
      "source": [
        "kmeans= KMeans(random_state=2021)\n",
        "kmeans.fit(Data)\n",
        "y = kmeans.predict(Data)\n",
        "plt.scatter(new_mds[:,0],new_mds[:,1],c=y)"
      ],
      "execution_count": 55,
      "outputs": [
        {
          "output_type": "execute_result",
          "data": {
            "text/plain": [
              "<matplotlib.collections.PathCollection at 0x7fc980f90990>"
            ]
          },
          "metadata": {
            "tags": []
          },
          "execution_count": 55
        },
        {
          "output_type": "display_data",
          "data": {
            "image/png": "[encoded data removed]",
            "text/plain": [
              "<Figure size 432x288 with 1 Axes>"
            ]
          },
          "metadata": {
            "tags": [],
            "needs_background": "light"
          }
        }
      ]
    },
    {
      "cell_type": "code",
      "metadata": {
        "id": "kHn_mWhVz6ES",
        "outputId": "8277fe38-e8ed-44f7-da45-606de0ffefa3",
        "colab": {
          "base_uri": "https://localhost:8080/",
          "height": 282
        }
      },
      "source": [
        "kmeans = KMeans(random_state=2021)\n",
        "kmeans.fit(Data)\n",
        "y = kmeans.predict(Data)\n",
        "\n",
        "plt.scatter(new_pca[:,0],new_pca[:,1],c=y)"
      ],
      "execution_count": 56,
      "outputs": [
        {
          "output_type": "execute_result",
          "data": {
            "text/plain": [
              "<matplotlib.collections.PathCollection at 0x7fc980ef4c50>"
            ]
          },
          "metadata": {
            "tags": []
          },
          "execution_count": 56
        },
        {
          "output_type": "display_data",
          "data": {
            "image/png": "[encoded data removed]",
            "text/plain": [
              "<Figure size 432x288 with 1 Axes>"
            ]
          },
          "metadata": {
            "tags": [],
            "needs_background": "light"
          }
        }
      ]
    }
  ]
}
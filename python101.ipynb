{
  "nbformat": 4,
  "nbformat_minor": 0,
  "metadata": {
    "colab": {
      "name": "python101.ipynb",
      "provenance": [],
      "authorship_tag": "ABX9TyMEtkXlhN/vunae01ea+KdK",
      "include_colab_link": true
    },
    "kernelspec": {
      "name": "python3",
      "display_name": "Python 3"
    }
  },
  "cells": [
    {
      "cell_type": "markdown",
      "metadata": {
        "id": "view-in-github",
        "colab_type": "text"
      },
      "source": [
        "<a href=\"https://colab.research.google.com/github/Octa-p/Multivariate/blob/main/python101.ipynb\" target=\"_parent\"><img src=\"https://colab.research.google.com/assets/colab-badge.svg\" alt=\"Open In Colab\"/></a>"
      ]
    },
    {
      "cell_type": "markdown",
      "metadata": {
        "id": "cTeGjIaXLn5H"
      },
      "source": [
        "ตัวแปร Variable\r\n",
        "\r\n",
        "หลักการตั้งชื่อตัวแปรเบื้องต้น\r\n",
        "\r\n",
        "1. ตั้งให้สื่อ\r\n",
        "2. ภาษาอังกฤษ\r\n",
        "3. ใช้ตัวเลขได้แต่ห้ามขึ้นต้นด้วยตัวเลข\r\n",
        "4. ห้ามเว้นวรรค\r\n",
        "5. ตัวเล็กกับตัวใหญ่ไม่เหมือนกัน"
      ]
    },
    {
      "cell_type": "markdown",
      "metadata": {
        "id": "R5RaEWi4Mw18"
      },
      "source": [
        "มี output 2 mode:ออกหน้าจอ กับ เข้าไปเก็บในตัวแปร"
      ]
    },
    {
      "cell_type": "code",
      "metadata": {
        "colab": {
          "base_uri": "https://localhost:8080/"
        },
        "id": "mtl7xQdiKC8D",
        "outputId": "14406ea6-1af0-44b0-8f69-4a4dd9012010"
      },
      "source": [
        "3.14159"
      ],
      "execution_count": 1,
      "outputs": [
        {
          "output_type": "execute_result",
          "data": {
            "text/plain": [
              "3.14159"
            ]
          },
          "metadata": {
            "tags": []
          },
          "execution_count": 1
        }
      ]
    },
    {
      "cell_type": "code",
      "metadata": {
        "id": "78ucr261M5sv"
      },
      "source": [
        "Pi = 3.14159"
      ],
      "execution_count": 4,
      "outputs": []
    },
    {
      "cell_type": "code",
      "metadata": {
        "colab": {
          "base_uri": "https://localhost:8080/"
        },
        "id": "2eOeTVufM_Gc",
        "outputId": "481b2567-e9f5-491f-d30f-f8d875219ad9"
      },
      "source": [
        "Pi"
      ],
      "execution_count": 5,
      "outputs": [
        {
          "output_type": "execute_result",
          "data": {
            "text/plain": [
              "3.14159"
            ]
          },
          "metadata": {
            "tags": []
          },
          "execution_count": 5
        }
      ]
    },
    {
      "cell_type": "code",
      "metadata": {
        "colab": {
          "base_uri": "https://localhost:8080/"
        },
        "id": "lWRHIW7NNFNj",
        "outputId": "e808d308-88a3-4bf6-b44c-5bf31a5b943b"
      },
      "source": [
        "a = 1234567\r\n",
        "print(a)"
      ],
      "execution_count": 6,
      "outputs": [
        {
          "output_type": "stream",
          "text": [
            "1234567\n"
          ],
          "name": "stdout"
        }
      ]
    },
    {
      "cell_type": "markdown",
      "metadata": {
        "id": "urqrFrTsNx0W"
      },
      "source": [
        "ชนิด"
      ]
    },
    {
      "cell_type": "code",
      "metadata": {
        "id": "YQBgpv8VNW7d"
      },
      "source": [
        ""
      ],
      "execution_count": null,
      "outputs": []
    }
  ]
}